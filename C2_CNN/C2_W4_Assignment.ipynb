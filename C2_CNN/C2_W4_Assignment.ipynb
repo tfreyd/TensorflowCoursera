{
  "nbformat": 4,
  "nbformat_minor": 0,
  "metadata": {
    "accelerator": "GPU",
    "colab": {
      "name": "C2_W4_Assignment_Solution.ipynb",
      "provenance": [],
      "collapsed_sections": [],
      "toc_visible": true,
      "include_colab_link": true
    },
    "kernelspec": {
      "display_name": "Python 3",
      "language": "python",
      "name": "python3"
    },
    "language_info": {
      "codemirror_mode": {
        "name": "ipython",
        "version": 3
      },
      "file_extension": ".py",
      "mimetype": "text/x-python",
      "name": "python",
      "nbconvert_exporter": "python",
      "pygments_lexer": "ipython3",
      "version": "3.8.5"
    }
  },
  "cells": [
    {
      "cell_type": "markdown",
      "metadata": {
        "id": "view-in-github",
        "colab_type": "text"
      },
      "source": [
        "<a href=\"https://colab.research.google.com/github/tfreyd/TensorflowCoursera/blob/main/C2_CNN/C2_W4_Assignment.ipynb\" target=\"_parent\"><img src=\"https://colab.research.google.com/assets/colab-badge.svg\" alt=\"Open In Colab\"/></a>"
      ]
    },
    {
      "cell_type": "code",
      "metadata": {
        "id": "zX4Kg8DUTKWO"
      },
      "source": [
        "#@title Licensed under the Apache License, Version 2.0 (the \"License\");\n",
        "# you may not use this file except in compliance with the License.\n",
        "# You may obtain a copy of the License at\n",
        "#\n",
        "# https://www.apache.org/licenses/LICENSE-2.0\n",
        "#\n",
        "# Unless required by applicable law or agreed to in writing, software\n",
        "# distributed under the License is distributed on an \"AS IS\" BASIS,\n",
        "# WITHOUT WARRANTIES OR CONDITIONS OF ANY KIND, either express or implied.\n",
        "# See the License for the specific language governing permissions and\n",
        "# limitations under the License."
      ],
      "execution_count": 1,
      "outputs": []
    },
    {
      "cell_type": "markdown",
      "metadata": {
        "id": "Zs0rvDcgHqnV"
      },
      "source": [
        "**IMPORTANT NOTE:** This notebook is designed to run as a Colab. Click the button on top that says, `Open in Colab`, to run this notebook as a Colab. Running the notebook on your local machine might result in some of the code blocks throwing errors."
      ]
    },
    {
      "cell_type": "code",
      "metadata": {
        "id": "wYtuKeK0dImp"
      },
      "source": [
        "import csv\n",
        "import numpy as np\n",
        "import tensorflow as tf\n",
        "from tensorflow.keras.preprocessing.image import ImageDataGenerator\n",
        "from google.colab import files"
      ],
      "execution_count": 2,
      "outputs": []
    },
    {
      "cell_type": "code",
      "metadata": {
        "id": "4kxw-_rmcnVu",
        "outputId": "fd40abcf-0239-49cc-ced2-ccac52b91248",
        "colab": {
          "base_uri": "https://localhost:8080/"
        }
      },
      "source": [
        "# sign_mnist_train.csv\n",
        "!gdown --id 1z0DkA9BytlLxO1C0BAWzknLyQmZAp0HR\n",
        "# sign_mnist_test.csv\n",
        "!gdown --id 1z1BIj4qmri59GWBG4ivMNFtpZ4AXIbzg\n",
        "\n",
        "def get_data(filename):\n",
        "  # You will need to write code that will read the file passed\n",
        "  # into this function. The first line contains the column headers\n",
        "  # so you should ignore it\n",
        "  # Each successive line contians 785 comma separated values between 0 and 255\n",
        "  # The first value is the label\n",
        "  # The rest are the pixel values for that picture\n",
        "  # The function will return 2 np.array types. One with all the labels\n",
        "  # One with all the images\n",
        "  #\n",
        "  # Tips: \n",
        "  # If you read a full line (as 'row') then row[0] has the label\n",
        "  # and row[1:785] has the 784 pixel values\n",
        "  # Take a look at np.array_split to turn the 784 pixels into 28x28\n",
        "  # You are reading in strings, but need the values to be floats\n",
        "  # Check out np.array().astype for a conversion  \n",
        "    with open(filename) as training_file:\n",
        "        ### START CODE HERE\n",
        "        \n",
        "        csv_reader = csv.reader(training_file, delimiter=',')\n",
        "        first_line = True\n",
        "        temp_images = []\n",
        "        temp_labels = []\n",
        "        for row in csv_reader:\n",
        "            if first_line:\n",
        "                # print(\"Ignoring first line\")\n",
        "                first_line = False\n",
        "            else:\n",
        "                temp_labels.append(row[0])\n",
        "                image_data = row[1:785]\n",
        "                image_data_as_array = np.array_split(image_data, 28)\n",
        "                temp_images.append(image_data_as_array)\n",
        "        images = np.array(temp_images).astype('float')\n",
        "        labels = np.array(temp_labels).astype('float')\n",
        "\n",
        "        ### END CODE HERE\n",
        "    return images, labels\n",
        "\n",
        "\n",
        "training_images, training_labels = get_data('./sign_mnist_train.csv')\n",
        "testing_images, testing_labels = get_data('./sign_mnist_test.csv')\n",
        "\n",
        "print(training_images.shape)\n",
        "print(training_labels.shape)\n",
        "print(testing_images.shape)\n",
        "print(testing_labels.shape)\n",
        "\n",
        "# Their output should be:\n",
        "# (27455, 28, 28)\n",
        "# (27455,)\n",
        "# (7172, 28, 28)\n",
        "# (7172,)"
      ],
      "execution_count": 3,
      "outputs": [
        {
          "output_type": "stream",
          "name": "stdout",
          "text": [
            "Downloading...\n",
            "From: https://drive.google.com/uc?id=1z0DkA9BytlLxO1C0BAWzknLyQmZAp0HR\n",
            "To: /content/sign_mnist_train.csv\n",
            "100% 83.3M/83.3M [00:00<00:00, 144MB/s] \n",
            "Downloading...\n",
            "From: https://drive.google.com/uc?id=1z1BIj4qmri59GWBG4ivMNFtpZ4AXIbzg\n",
            "To: /content/sign_mnist_test.csv\n",
            "100% 21.8M/21.8M [00:00<00:00, 102MB/s] \n",
            "(27455, 28, 28)\n",
            "(27455,)\n",
            "(7172, 28, 28)\n",
            "(7172,)\n"
          ]
        }
      ]
    },
    {
      "cell_type": "code",
      "metadata": {
        "id": "awoqRpyZdQkD",
        "outputId": "6817bdd5-a231-4221-ffd7-f4b78abca9ca",
        "colab": {
          "base_uri": "https://localhost:8080/"
        }
      },
      "source": [
        "# In this section you will have to add another dimension to the data\n",
        "# So, for example, if your array is (10000, 28, 28)\n",
        "# You will need to make it (10000, 28, 28, 1)\n",
        "# Hint: np.expand_dims\n",
        "\n",
        "training_images = np.expand_dims(training_images, axis=3) ### YOUR CODE HERE\n",
        "testing_images = np.expand_dims(testing_images, axis=3) ### YOUR CODE HERE\n",
        "\n",
        "train_datagen = ImageDataGenerator(\n",
        "    ### YOUR CODE HERE\n",
        "    rescale=1. / 255,\n",
        "    rotation_range=40,\n",
        "    width_shift_range=0.2,\n",
        "    height_shift_range=0.2,\n",
        "    shear_range=0.2,\n",
        "    zoom_range=0.2,\n",
        "    horizontal_flip=True,\n",
        "    fill_mode='nearest'\n",
        "    )\n",
        "\n",
        "\n",
        "validation_datagen = ImageDataGenerator(\n",
        "    ### YOUR CODE HERE\n",
        "    rescale=1. / 255\n",
        "    )\n",
        "\n",
        "# Keep These\n",
        "print(training_images.shape)\n",
        "print(testing_images.shape)\n",
        "    \n",
        "# Their output should be:\n",
        "# (27455, 28, 28, 1)\n",
        "# (7172, 28, 28, 1)"
      ],
      "execution_count": 4,
      "outputs": [
        {
          "output_type": "stream",
          "name": "stdout",
          "text": [
            "(27455, 28, 28, 1)\n",
            "(7172, 28, 28, 1)\n"
          ]
        }
      ]
    },
    {
      "cell_type": "code",
      "metadata": {
        "id": "Rmb7S32cgRqS",
        "outputId": "9175da51-98f2-42cd-c286-cc1ecb174491",
        "colab": {
          "base_uri": "https://localhost:8080/"
        }
      },
      "source": [
        "# Define the model\n",
        "# Use no more than 2 Conv2D and 2 MaxPooling2D\n",
        "model = tf.keras.models.Sequential([\n",
        "    ### START CODE HERE                                \n",
        "    tf.keras.layers.Conv2D(64, (3, 3), activation='relu', input_shape=(28, 28, 1)),\n",
        "    tf.keras.layers.MaxPooling2D(2, 2),\n",
        "    tf.keras.layers.Conv2D(64, (3, 3), activation='relu'),\n",
        "    tf.keras.layers.MaxPooling2D(2, 2),\n",
        "    tf.keras.layers.Flatten(),\n",
        "    tf.keras.layers.Dense(128, activation=tf.nn.relu),\n",
        "    tf.keras.layers.Dense(26, activation=tf.nn.softmax)]\n",
        "    ### END CODE HERE\n",
        "    )\n",
        "\n",
        "model.compile(optimizer = tf.optimizers.Adam(), ### YOUR CODE HERE)\n",
        "              loss = 'sparse_categorical_crossentropy',\n",
        "              metrics=['accuracy'])\n",
        "\n",
        "history = model.fit(train_datagen.flow(training_images, training_labels, batch_size=32), ### YOUR CODE HERE)\n",
        "                              steps_per_epoch=len(training_images) / 32,\n",
        "                              epochs=15,\n",
        "                              validation_data=validation_datagen.flow(testing_images, testing_labels, batch_size=32),\n",
        "                              validation_steps=len(testing_images) / 32)\n",
        "\n",
        "model.evaluate(testing_images, testing_labels)\n",
        "\n",
        "# The output from model.evaluate should be close to:\n",
        "# [6.92426086682151, 0.56609035]\n"
      ],
      "execution_count": 5,
      "outputs": [
        {
          "output_type": "stream",
          "name": "stdout",
          "text": [
            "Epoch 1/15\n",
            "857/857 [==============================] - 32s 21ms/step - loss: 2.8506 - accuracy: 0.1373 - val_loss: 2.0755 - val_accuracy: 0.3192\n",
            "Epoch 2/15\n",
            "857/857 [==============================] - 19s 22ms/step - loss: 2.1646 - accuracy: 0.3209 - val_loss: 1.5158 - val_accuracy: 0.4791\n",
            "Epoch 3/15\n",
            "857/857 [==============================] - 18s 21ms/step - loss: 1.7987 - accuracy: 0.4257 - val_loss: 1.1205 - val_accuracy: 0.5940\n",
            "Epoch 4/15\n",
            "857/857 [==============================] - 18s 21ms/step - loss: 1.5637 - accuracy: 0.4958 - val_loss: 0.9333 - val_accuracy: 0.6935\n",
            "Epoch 5/15\n",
            "857/857 [==============================] - 19s 22ms/step - loss: 1.4001 - accuracy: 0.5469 - val_loss: 0.8548 - val_accuracy: 0.7043\n",
            "Epoch 6/15\n",
            "857/857 [==============================] - 18s 21ms/step - loss: 1.2639 - accuracy: 0.5859 - val_loss: 0.8466 - val_accuracy: 0.7111\n",
            "Epoch 7/15\n",
            "857/857 [==============================] - 18s 21ms/step - loss: 1.1556 - accuracy: 0.6193 - val_loss: 0.6889 - val_accuracy: 0.7747\n",
            "Epoch 8/15\n",
            "857/857 [==============================] - 19s 22ms/step - loss: 1.0885 - accuracy: 0.6443 - val_loss: 0.6851 - val_accuracy: 0.7619\n",
            "Epoch 9/15\n",
            "857/857 [==============================] - 18s 21ms/step - loss: 1.0173 - accuracy: 0.6621 - val_loss: 0.6502 - val_accuracy: 0.7538\n",
            "Epoch 10/15\n",
            "857/857 [==============================] - 18s 21ms/step - loss: 0.9724 - accuracy: 0.6776 - val_loss: 0.6213 - val_accuracy: 0.7968\n",
            "Epoch 11/15\n",
            "857/857 [==============================] - 18s 21ms/step - loss: 0.9240 - accuracy: 0.6909 - val_loss: 0.4669 - val_accuracy: 0.8388\n",
            "Epoch 12/15\n",
            "857/857 [==============================] - 18s 21ms/step - loss: 0.8638 - accuracy: 0.7131 - val_loss: 0.5903 - val_accuracy: 0.7883\n",
            "Epoch 13/15\n",
            "857/857 [==============================] - 18s 22ms/step - loss: 0.8301 - accuracy: 0.7240 - val_loss: 0.5532 - val_accuracy: 0.7934\n",
            "Epoch 14/15\n",
            "857/857 [==============================] - 18s 22ms/step - loss: 0.8104 - accuracy: 0.7293 - val_loss: 0.4583 - val_accuracy: 0.8334\n",
            "Epoch 15/15\n",
            "857/857 [==============================] - 18s 22ms/step - loss: 0.7786 - accuracy: 0.7396 - val_loss: 0.4796 - val_accuracy: 0.8310\n",
            "225/225 [==============================] - 1s 5ms/step - loss: 296.0092 - accuracy: 0.5167\n"
          ]
        },
        {
          "output_type": "execute_result",
          "data": {
            "text/plain": [
              "[296.0091552734375, 0.5167317390441895]"
            ]
          },
          "metadata": {},
          "execution_count": 5
        }
      ]
    },
    {
      "cell_type": "code",
      "metadata": {
        "id": "_Q3Zpr46dsij",
        "outputId": "5605e352-cf35-4af9-d243-743fa01bc389",
        "colab": {
          "base_uri": "https://localhost:8080/",
          "height": 545
        }
      },
      "source": [
        "# Plot the chart for accuracy and loss on both training and validation\n",
        "\n",
        "import matplotlib.pyplot as plt\n",
        "acc = history.history['accuracy'] ### YOUR CODE HERE\n",
        "val_acc = history.history['val_accuracy'] ### YOUR CODE HERE\n",
        "loss = history.history['loss'] ### YOUR CODE HERE\n",
        "val_loss = history.history['val_loss'] ### YOUR CODE HERE\n",
        "\n",
        "epochs = range(len(acc))\n",
        "\n",
        "plt.plot(epochs, acc, 'r', label='Training accuracy')\n",
        "plt.plot(epochs, val_acc, 'b', label='Validation accuracy')\n",
        "plt.title('Training and validation accuracy')\n",
        "plt.legend()\n",
        "plt.figure()\n",
        "\n",
        "plt.plot(epochs, loss, 'r', label='Training Loss')\n",
        "plt.plot(epochs, val_loss, 'b', label='Validation Loss')\n",
        "plt.title('Training and validation loss')\n",
        "plt.legend()\n",
        "\n",
        "plt.show()"
      ],
      "execution_count": 6,
      "outputs": [
        {
          "output_type": "display_data",
          "data": {
            "image/png": "[encoded data removed]",
            "text/plain": [
              "<Figure size 432x288 with 1 Axes>"
            ]
          },
          "metadata": {
            "needs_background": "light"
          }
        },
        {
          "output_type": "display_data",
          "data": {
            "image/png": "[encoded data removed]",
            "text/plain": [
              "<Figure size 432x288 with 1 Axes>"
            ]
          },
          "metadata": {
            "needs_background": "light"
          }
        }
      ]
    }
  ]
}