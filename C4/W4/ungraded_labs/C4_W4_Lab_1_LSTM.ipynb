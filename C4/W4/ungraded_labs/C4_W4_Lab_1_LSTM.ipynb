{
  "nbformat": 4,
  "nbformat_minor": 0,
  "metadata": {
    "colab": {
      "name": "C4_W4_Lab_1_LSTM.ipynb",
      "provenance": [],
      "collapsed_sections": [],
      "include_colab_link": true
    },
    "kernelspec": {
      "name": "python3",
      "display_name": "Python 3"
    },
    "language_info": {
      "name": "python"
    }
  },
  "cells": [
    {
      "cell_type": "markdown",
      "metadata": {
        "id": "view-in-github",
        "colab_type": "text"
      },
      "source": [
        "<a href=\"https://colab.research.google.com/github/tfreyd/TensorflowCoursera/blob/main/C4/W4/ungraded_labs/C4_W4_Lab_1_LSTM.ipynb\" target=\"_parent\"><img src=\"https://colab.research.google.com/assets/colab-badge.svg\" alt=\"Open In Colab\"/></a>"
      ]
    },
    {
      "cell_type": "code",
      "metadata": {
        "id": "xPbs094B9RAV"
      },
      "source": [
        "# Install specific verison of tensorflow\n",
        "\n",
        "#!pip install tensorflow==2.5.0"
      ],
      "execution_count": 1,
      "outputs": []
    },
    {
      "cell_type": "code",
      "metadata": {
        "id": "r8uR-HdA9ixd",
        "outputId": "2518438d-805c-4366-b618-3b5393fe0a7b",
        "colab": {
          "base_uri": "https://localhost:8080/"
        }
      },
      "source": [
        "import tensorflow as tf \n",
        "import numpy as np \n",
        "import matplotlib.pyplot as plt\n",
        "print(tf.__version__)"
      ],
      "execution_count": 4,
      "outputs": [
        {
          "output_type": "stream",
          "name": "stdout",
          "text": [
            "2.6.0\n"
          ]
        }
      ]
    },
    {
      "cell_type": "code",
      "metadata": {
        "id": "WHp_ZpK397bg"
      },
      "source": [
        "def plot_series(time,series, format='-',start=0, end=None):\n",
        "  plt.plot(time[start:end],series[start:end],format)\n",
        "  plt.xlabel('Time')\n",
        "  plt.ylabel('Value')\n",
        "  plt.grid(True)\n",
        "\n",
        "def trend(time, slope=0):\n",
        "    return slope * time \n",
        "  \n",
        "def seasonal_pattern(season_time):\n",
        "    '''\n",
        "    Just an aritrary patter, change it as you wish\n",
        "    '''\n",
        "    return np.where(season_time < 0.4, \n",
        "                    np.cos(season_time * 2 * np.pi),\n",
        "                    1 / np.exp( 3 * season_time))\n",
        "    \n",
        "def seasonality(time, period, amplitude=1, phase=0):\n",
        "      '''\n",
        "      repeat the same pattern at each period\n",
        "      '''\n",
        "      season_time = ((time+phase) % period ) / period\n",
        "      return amplitude * seasonal_pattern(season_time)\n",
        "\n",
        "def noise(time, noise_level=1, seed= None):\n",
        "  rnd=np.random.RandomState(seed)\n",
        "  return rnd.randn(len(time))* noise_level\n",
        "\n",
        "\n",
        "time=np.arange( 4 * 365 + 1, dtype='float32')\n",
        "baseline=10\n",
        "series=trend(time, 0.1)\n",
        "baseline = 10 \n",
        "amplitude = 40 \n",
        "slope = 0.05 \n",
        "noise_level = 5\n",
        "\n",
        "# Create the series \n",
        "series = baseline + trend(time, slope) + seasonality ( time, period=365, amplitude=amplitude)\n",
        "\n",
        "#Update with noise \n",
        "series += noise(time, noise_level, seed=42)\n",
        "\n",
        "split_time = 1000\n",
        "time_train= time[:split_time]\n",
        "x_train =  series[:split_time]\n",
        "time_valid = time[split_time:]\n",
        "x_valid = series[split_time:]\n",
        "\n",
        "window_size = 20 \n",
        "batch_size=20 \n",
        "shuffle_bugger_size=1000\n"
      ],
      "execution_count": 10,
      "outputs": []
    },
    {
      "cell_type": "code",
      "metadata": {
        "id": "gJkFp0KP_-8i"
      },
      "source": [
        "def windowed_dataset ( series, window_size, batch_size, shuffle_buffer):\n",
        "  #expand to have 3 dimensions as a RNN cell takes input of 3 dimensions\n",
        "  series = tf.expand_dims(series, axis=-1)\n",
        "  #creation of the window dataset\n",
        "  # slicing of the series to a tensor\n",
        "  ds = tf.data.Dataset.from_tensor_slices(series)\n",
        "  ds = ds.window(window_size + 1, shift = 1, drop_remainder=True)\n",
        "  ds = ds.flat_map(lambda w: w.batch(window_size+1))\n",
        "  ds = ds.shuffle(shuffle_buffer) #to avoid sequence bias\n",
        "  ds = ds.map(lambda w: (w[:1], w[1:])) # split of the data in Xs and Y \n",
        "  return ds.batch(batch_size).refetch(1)"
      ],
      "execution_count": 12,
      "outputs": []
    },
    {
      "cell_type": "code",
      "metadata": {
        "id": "08mY06PnCesY"
      },
      "source": [
        ""
      ],
      "execution_count": null,
      "outputs": []
    }
  ]
}