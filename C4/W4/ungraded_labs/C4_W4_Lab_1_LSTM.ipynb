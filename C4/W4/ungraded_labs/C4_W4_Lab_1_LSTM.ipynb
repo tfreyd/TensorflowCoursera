{
  "nbformat": 4,
  "nbformat_minor": 0,
  "metadata": {
    "colab": {
      "name": "C4_W4_Lab_1_LSTM.ipynb",
      "provenance": [],
      "collapsed_sections": [],
      "include_colab_link": true
    },
    "kernelspec": {
      "name": "python3",
      "display_name": "Python 3"
    },
    "language_info": {
      "name": "python"
    },
    "accelerator": "GPU"
  },
  "cells": [
    {
      "cell_type": "markdown",
      "metadata": {
        "id": "view-in-github",
        "colab_type": "text"
      },
      "source": [
        "<a href=\"https://colab.research.google.com/github/tfreyd/TensorflowCoursera/blob/main/C4/W4/ungraded_labs/C4_W4_Lab_1_LSTM.ipynb\" target=\"_parent\"><img src=\"https://colab.research.google.com/assets/colab-badge.svg\" alt=\"Open In Colab\"/></a>"
      ]
    },
    {
      "cell_type": "code",
      "metadata": {
        "id": "ec480CiSIJRS",
        "colab": {
          "base_uri": "https://localhost:8080/"
        },
        "outputId": "f59cfe0c-1b69-49c0-c7dd-f0cfbceb59dc"
      },
      "source": [
        "import tensorflow as tf\n",
        "import numpy as np\n",
        "import matplotlib.pyplot as plt\n",
        "print(tf.__version__)"
      ],
      "execution_count": 1,
      "outputs": [
        {
          "output_type": "stream",
          "name": "stdout",
          "text": [
            "2.6.0\n"
          ]
        }
      ]
    },
    {
      "cell_type": "code",
      "metadata": {
        "id": "rYuwt48dIJql"
      },
      "source": [
        "def plot_series(time, series, format=\"-\", start=0, end=None):\n",
        "    plt.plot(time[start:end], series[start:end], format)\n",
        "    plt.xlabel(\"Time\")\n",
        "    plt.ylabel(\"Value\")\n",
        "    plt.grid(True)\n",
        "\n",
        "def trend(time, slope=0):\n",
        "    return slope * time\n",
        "\n",
        "def seasonal_pattern(season_time):\n",
        "    \"\"\"Just an arbitrary pattern, you can change it if you wish\"\"\"\n",
        "    return np.where(season_time < 0.4,\n",
        "                    np.cos(season_time * 2 * np.pi),\n",
        "                    1 / np.exp(3 * season_time))\n",
        "\n",
        "def seasonality(time, period, amplitude=1, phase=0):\n",
        "    \"\"\"Repeats the same pattern at each period\"\"\"\n",
        "    season_time = ((time + phase) % period) / period\n",
        "    return amplitude * seasonal_pattern(season_time)\n",
        "\n",
        "def noise(time, noise_level=1, seed=None):\n",
        "    rnd = np.random.RandomState(seed)\n",
        "    return rnd.randn(len(time)) * noise_level\n",
        "\n",
        "time = np.arange(4 * 365 + 1, dtype=\"float32\")\n",
        "baseline = 10\n",
        "series = trend(time, 0.1)  \n",
        "baseline = 10\n",
        "amplitude = 40\n",
        "slope = 0.05\n",
        "noise_level = 5\n",
        "\n",
        "# Create the series\n",
        "series = baseline + trend(time, slope) + seasonality(time, period=365, amplitude=amplitude)\n",
        "# Update with noise\n",
        "series += noise(time, noise_level, seed=42)\n",
        "\n",
        "split_time = 1000\n",
        "time_train = time[:split_time]\n",
        "x_train = series[:split_time]\n",
        "time_valid = time[split_time:]\n",
        "x_valid = series[split_time:]\n",
        "\n",
        "window_size = 20\n",
        "batch_size = 32\n",
        "shuffle_buffer_size = 1000"
      ],
      "execution_count": 2,
      "outputs": []
    },
    {
      "cell_type": "code",
      "metadata": {
        "id": "wQBm9uCmILu8"
      },
      "source": [
        "def windowed_dataset(series, window_size, batch_size, shuffle_buffer):\n",
        "    series = tf.expand_dims(series, axis=-1)\n",
        "    ds = tf.data.Dataset.from_tensor_slices(series)\n",
        "    ds = ds.window(window_size + 1, shift=1, drop_remainder=True)\n",
        "    ds = ds.flat_map(lambda w: w.batch(window_size + 1))\n",
        "    ds = ds.shuffle(shuffle_buffer)\n",
        "    ds = ds.map(lambda w: (w[:-1], w[1:]))\n",
        "    return ds.batch(batch_size).prefetch(1)"
      ],
      "execution_count": 3,
      "outputs": []
    },
    {
      "cell_type": "code",
      "metadata": {
        "id": "zAa7IwBpIOmH"
      },
      "source": [
        "def model_forecast(model, series, window_size):\n",
        "  ds = tf.data.Dataset.from_tensor_slices(series)\n",
        "  ds = ds.window(window_size, shift=1, drop_remainder=True)\n",
        "  ds = ds.falt_map(lambda w: w.batch(window_size))\n",
        "  ds = ds.batch(32).prefetch(1)\n",
        "  forecast = model.predict(ds)\n",
        "  return forecast"
      ],
      "execution_count": 4,
      "outputs": []
    },
    {
      "cell_type": "code",
      "metadata": {
        "id": "0ywMup9GI2Th",
        "colab": {
          "base_uri": "https://localhost:8080/"
        },
        "outputId": "f2a1804d-8af3-448b-ca0b-9822e7cf9d4d"
      },
      "source": [
        "tf.keras.backend.clear_session() \n",
        "tf.random.set_seed(42)\n",
        "np.random.seed(42)\n",
        "\n",
        "window_size = 30 \n",
        "train_set = windowed_dataset ( x_train, window_size, batch_size=128, shuffle_buffer = shuffle_buffer_size)\n",
        "\n",
        "model = tf.keras.models.Sequential ([\n",
        "  tf.keras.layers.Conv1D(32, kernel_size=5,strides=1, padding = 'causal',activation='relu',input_shape=[None,1]),\n",
        "  tf.keras.layers.Bidirectional(tf.keras.layers.LSTM(32, return_sequences=True)),\n",
        "  tf.keras.layers.Bidirectional(tf.keras.layers.LSTM(32, return_sequences=True)),\n",
        "  tf.keras.layers.Dense(1),\n",
        "  tf.keras.layers.Lambda(lambda x : x * 200)                     \n",
        "])\n",
        "\n",
        "\n",
        "#setting up the callback to find the best learning rate \n",
        "lr_schedule = tf.keras.callbacks.LearningRateScheduler( lambda epoch: 1e-8 * 10**(epoch/20))\n",
        "\n",
        "optimizer  = tf.keras.optimizers.SGD(learning_rate=1e-8, momentum= 0.9)\n",
        "\n",
        "model.compile(loss=tf.keras.losses.Huber(),\n",
        "optimizer = optimizer, metrics=['mae'])\n",
        "\n",
        "history= model.fit(train_set, epochs = 100, callbacks = [lr_schedule])"
      ],
      "execution_count": 5,
      "outputs": [
        {
          "output_type": "stream",
          "name": "stdout",
          "text": [
            "Epoch 1/100\n",
            "8/8 [==============================] - 22s 24ms/step - loss: 34.0438 - mae: 34.5416\n",
            "Epoch 2/100\n",
            "8/8 [==============================] - 0s 16ms/step - loss: 33.0697 - mae: 33.5672\n",
            "Epoch 3/100\n",
            "8/8 [==============================] - 0s 16ms/step - loss: 31.4026 - mae: 31.8998\n",
            "Epoch 4/100\n",
            "8/8 [==============================] - 0s 18ms/step - loss: 29.2024 - mae: 29.6995\n",
            "Epoch 5/100\n",
            "8/8 [==============================] - 0s 16ms/step - loss: 26.4395 - mae: 26.9352\n",
            "Epoch 6/100\n",
            "8/8 [==============================] - 0s 14ms/step - loss: 23.2858 - mae: 23.7805\n",
            "Epoch 7/100\n",
            "8/8 [==============================] - 0s 14ms/step - loss: 20.0954 - mae: 20.5887\n",
            "Epoch 8/100\n",
            "8/8 [==============================] - 0s 14ms/step - loss: 17.4126 - mae: 17.9056\n",
            "Epoch 9/100\n",
            "8/8 [==============================] - 0s 15ms/step - loss: 15.5792 - mae: 16.0712\n",
            "Epoch 10/100\n",
            "8/8 [==============================] - 0s 17ms/step - loss: 14.5424 - mae: 15.0343\n",
            "Epoch 11/100\n",
            "8/8 [==============================] - 0s 16ms/step - loss: 14.0710 - mae: 14.5630\n",
            "Epoch 12/100\n",
            "8/8 [==============================] - 0s 16ms/step - loss: 13.8422 - mae: 14.3342\n",
            "Epoch 13/100\n",
            "8/8 [==============================] - 0s 16ms/step - loss: 13.6772 - mae: 14.1695\n",
            "Epoch 14/100\n",
            "8/8 [==============================] - 0s 15ms/step - loss: 13.5309 - mae: 14.0228\n",
            "Epoch 15/100\n",
            "8/8 [==============================] - 0s 15ms/step - loss: 13.3826 - mae: 13.8742\n",
            "Epoch 16/100\n",
            "8/8 [==============================] - 0s 17ms/step - loss: 13.2265 - mae: 13.7179\n",
            "Epoch 17/100\n",
            "8/8 [==============================] - 0s 16ms/step - loss: 13.0536 - mae: 13.5446\n",
            "Epoch 18/100\n",
            "8/8 [==============================] - 0s 17ms/step - loss: 12.8633 - mae: 13.3542\n",
            "Epoch 19/100\n",
            "8/8 [==============================] - 0s 17ms/step - loss: 12.6521 - mae: 13.1428\n",
            "Epoch 20/100\n",
            "8/8 [==============================] - 0s 16ms/step - loss: 12.4099 - mae: 12.9003\n",
            "Epoch 21/100\n",
            "8/8 [==============================] - 0s 17ms/step - loss: 12.1365 - mae: 12.6261\n",
            "Epoch 22/100\n",
            "8/8 [==============================] - 0s 20ms/step - loss: 11.8327 - mae: 12.3221\n",
            "Epoch 23/100\n",
            "8/8 [==============================] - 0s 17ms/step - loss: 11.4976 - mae: 11.9865\n",
            "Epoch 24/100\n",
            "8/8 [==============================] - 0s 16ms/step - loss: 11.1529 - mae: 11.6413\n",
            "Epoch 25/100\n",
            "8/8 [==============================] - 0s 17ms/step - loss: 10.8030 - mae: 11.2907\n",
            "Epoch 26/100\n",
            "8/8 [==============================] - 0s 16ms/step - loss: 10.4645 - mae: 10.9517\n",
            "Epoch 27/100\n",
            "8/8 [==============================] - 0s 16ms/step - loss: 10.1312 - mae: 10.6173\n",
            "Epoch 28/100\n",
            "8/8 [==============================] - 0s 17ms/step - loss: 9.8254 - mae: 10.3119\n",
            "Epoch 29/100\n",
            "8/8 [==============================] - 0s 16ms/step - loss: 9.5362 - mae: 10.0215\n",
            "Epoch 30/100\n",
            "8/8 [==============================] - 0s 15ms/step - loss: 9.2849 - mae: 9.7696\n",
            "Epoch 31/100\n",
            "8/8 [==============================] - 0s 16ms/step - loss: 9.0739 - mae: 9.5581\n",
            "Epoch 32/100\n",
            "8/8 [==============================] - 0s 17ms/step - loss: 8.8975 - mae: 9.3813\n",
            "Epoch 33/100\n",
            "8/8 [==============================] - 0s 15ms/step - loss: 8.7427 - mae: 9.2263\n",
            "Epoch 34/100\n",
            "8/8 [==============================] - 0s 14ms/step - loss: 8.5985 - mae: 9.0820\n",
            "Epoch 35/100\n",
            "8/8 [==============================] - 0s 16ms/step - loss: 8.4520 - mae: 8.9353\n",
            "Epoch 36/100\n",
            "8/8 [==============================] - 0s 16ms/step - loss: 8.3049 - mae: 8.7876\n",
            "Epoch 37/100\n",
            "8/8 [==============================] - 0s 17ms/step - loss: 8.1552 - mae: 8.6380\n",
            "Epoch 38/100\n",
            "8/8 [==============================] - 0s 15ms/step - loss: 7.9994 - mae: 8.4814\n",
            "Epoch 39/100\n",
            "8/8 [==============================] - 0s 16ms/step - loss: 7.8404 - mae: 8.3223\n",
            "Epoch 40/100\n",
            "8/8 [==============================] - 0s 15ms/step - loss: 7.6805 - mae: 8.1620\n",
            "Epoch 41/100\n",
            "8/8 [==============================] - 0s 16ms/step - loss: 7.5225 - mae: 8.0038\n",
            "Epoch 42/100\n",
            "8/8 [==============================] - 0s 17ms/step - loss: 7.3672 - mae: 7.8485\n",
            "Epoch 43/100\n",
            "8/8 [==============================] - 0s 14ms/step - loss: 7.2250 - mae: 7.7064\n",
            "Epoch 44/100\n",
            "8/8 [==============================] - 0s 17ms/step - loss: 7.0924 - mae: 7.5737\n",
            "Epoch 45/100\n",
            "8/8 [==============================] - 0s 15ms/step - loss: 6.9535 - mae: 7.4340\n",
            "Epoch 46/100\n",
            "8/8 [==============================] - 0s 14ms/step - loss: 6.8250 - mae: 7.3054\n",
            "Epoch 47/100\n",
            "8/8 [==============================] - 0s 17ms/step - loss: 6.7006 - mae: 7.1798\n",
            "Epoch 48/100\n",
            "8/8 [==============================] - 0s 16ms/step - loss: 6.5640 - mae: 7.0433\n",
            "Epoch 49/100\n",
            "8/8 [==============================] - 0s 15ms/step - loss: 6.4416 - mae: 6.9207\n",
            "Epoch 50/100\n",
            "8/8 [==============================] - 0s 17ms/step - loss: 6.2834 - mae: 6.7614\n",
            "Epoch 51/100\n",
            "8/8 [==============================] - 0s 15ms/step - loss: 6.1271 - mae: 6.6050\n",
            "Epoch 52/100\n",
            "8/8 [==============================] - 0s 15ms/step - loss: 5.9820 - mae: 6.4595\n",
            "Epoch 53/100\n",
            "8/8 [==============================] - 0s 17ms/step - loss: 5.7929 - mae: 6.2700\n",
            "Epoch 54/100\n",
            "8/8 [==============================] - 0s 16ms/step - loss: 5.6180 - mae: 6.0947\n",
            "Epoch 55/100\n",
            "8/8 [==============================] - 0s 17ms/step - loss: 5.4110 - mae: 5.8873\n",
            "Epoch 56/100\n",
            "8/8 [==============================] - 0s 15ms/step - loss: 5.2031 - mae: 5.6784\n",
            "Epoch 57/100\n",
            "8/8 [==============================] - 0s 16ms/step - loss: 5.0072 - mae: 5.4826\n",
            "Epoch 58/100\n",
            "8/8 [==============================] - 0s 15ms/step - loss: 4.8105 - mae: 5.2857\n",
            "Epoch 59/100\n",
            "8/8 [==============================] - 0s 16ms/step - loss: 4.6275 - mae: 5.1022\n",
            "Epoch 60/100\n",
            "8/8 [==============================] - 0s 17ms/step - loss: 4.8577 - mae: 5.3370\n",
            "Epoch 61/100\n",
            "8/8 [==============================] - 0s 17ms/step - loss: 4.5984 - mae: 5.0755\n",
            "Epoch 62/100\n",
            "8/8 [==============================] - 0s 16ms/step - loss: 4.3504 - mae: 4.8262\n",
            "Epoch 63/100\n",
            "8/8 [==============================] - 0s 17ms/step - loss: 4.1421 - mae: 4.6165\n",
            "Epoch 64/100\n",
            "8/8 [==============================] - 0s 18ms/step - loss: 4.1893 - mae: 4.6647\n",
            "Epoch 65/100\n",
            "8/8 [==============================] - 0s 17ms/step - loss: 4.3313 - mae: 4.8076\n",
            "Epoch 66/100\n",
            "8/8 [==============================] - 0s 16ms/step - loss: 4.4085 - mae: 4.8854\n",
            "Epoch 67/100\n",
            "8/8 [==============================] - 0s 17ms/step - loss: 5.0775 - mae: 5.5571\n",
            "Epoch 68/100\n",
            "8/8 [==============================] - 0s 20ms/step - loss: 4.6883 - mae: 5.1676\n",
            "Epoch 69/100\n",
            "8/8 [==============================] - 0s 16ms/step - loss: 4.9091 - mae: 5.3886\n",
            "Epoch 70/100\n",
            "8/8 [==============================] - 0s 16ms/step - loss: 4.7796 - mae: 5.2585\n",
            "Epoch 71/100\n",
            "8/8 [==============================] - 0s 18ms/step - loss: 5.9860 - mae: 6.4715\n",
            "Epoch 72/100\n",
            "8/8 [==============================] - 0s 16ms/step - loss: 5.1504 - mae: 5.6299\n",
            "Epoch 73/100\n",
            "8/8 [==============================] - 0s 16ms/step - loss: 6.2282 - mae: 6.7139\n",
            "Epoch 74/100\n",
            "8/8 [==============================] - 0s 16ms/step - loss: 6.7050 - mae: 7.1920\n",
            "Epoch 75/100\n",
            "8/8 [==============================] - 0s 18ms/step - loss: 6.7277 - mae: 7.2131\n",
            "Epoch 76/100\n",
            "8/8 [==============================] - 0s 15ms/step - loss: 6.5891 - mae: 7.0722\n",
            "Epoch 77/100\n",
            "8/8 [==============================] - 0s 17ms/step - loss: 8.2381 - mae: 8.7290\n",
            "Epoch 78/100\n",
            "8/8 [==============================] - 0s 15ms/step - loss: 8.2602 - mae: 8.7477\n",
            "Epoch 79/100\n",
            "8/8 [==============================] - 0s 16ms/step - loss: 10.6044 - mae: 11.0902\n",
            "Epoch 80/100\n",
            "8/8 [==============================] - 0s 15ms/step - loss: 20.6438 - mae: 21.1385\n",
            "Epoch 81/100\n",
            "8/8 [==============================] - 0s 17ms/step - loss: 13.4084 - mae: 13.9016\n",
            "Epoch 82/100\n",
            "8/8 [==============================] - 0s 15ms/step - loss: 13.9893 - mae: 14.4805\n",
            "Epoch 83/100\n",
            "8/8 [==============================] - 0s 17ms/step - loss: 11.6741 - mae: 12.1635\n",
            "Epoch 84/100\n",
            "8/8 [==============================] - 0s 16ms/step - loss: 25.7748 - mae: 26.2723\n",
            "Epoch 85/100\n",
            "8/8 [==============================] - 0s 15ms/step - loss: 16.7519 - mae: 17.2463\n",
            "Epoch 86/100\n",
            "8/8 [==============================] - 0s 14ms/step - loss: 17.7898 - mae: 18.2851\n",
            "Epoch 87/100\n",
            "8/8 [==============================] - 0s 17ms/step - loss: 26.2895 - mae: 26.7859\n",
            "Epoch 88/100\n",
            "8/8 [==============================] - 0s 16ms/step - loss: 15.3269 - mae: 15.8198\n",
            "Epoch 89/100\n",
            "8/8 [==============================] - 0s 18ms/step - loss: 14.3681 - mae: 14.8591\n",
            "Epoch 90/100\n",
            "8/8 [==============================] - 0s 16ms/step - loss: 17.8640 - mae: 18.3589\n",
            "Epoch 91/100\n",
            "8/8 [==============================] - 0s 16ms/step - loss: 11.4215 - mae: 11.9122\n",
            "Epoch 92/100\n",
            "8/8 [==============================] - 0s 18ms/step - loss: 25.3618 - mae: 25.8582\n",
            "Epoch 93/100\n",
            "8/8 [==============================] - 0s 14ms/step - loss: 19.9426 - mae: 20.4374\n",
            "Epoch 94/100\n",
            "8/8 [==============================] - 0s 17ms/step - loss: 12.9889 - mae: 13.4807\n",
            "Epoch 95/100\n",
            "8/8 [==============================] - 0s 16ms/step - loss: 16.6286 - mae: 17.1222\n",
            "Epoch 96/100\n",
            "8/8 [==============================] - 0s 18ms/step - loss: 15.7630 - mae: 16.2569\n",
            "Epoch 97/100\n",
            "8/8 [==============================] - 0s 16ms/step - loss: 14.7659 - mae: 15.2605\n",
            "Epoch 98/100\n",
            "8/8 [==============================] - 0s 16ms/step - loss: 22.2573 - mae: 22.7537\n",
            "Epoch 99/100\n",
            "8/8 [==============================] - 0s 17ms/step - loss: 28.6023 - mae: 29.0982\n",
            "Epoch 100/100\n",
            "8/8 [==============================] - 0s 15ms/step - loss: 45.3034 - mae: 45.8005\n"
          ]
        }
      ]
    },
    {
      "cell_type": "code",
      "metadata": {
        "id": "oAx2EoM6PtRc",
        "outputId": "89884e1f-e927-496b-b5f8-a5668b79d8d1",
        "colab": {
          "base_uri": "https://localhost:8080/"
        }
      },
      "source": [
        "type(history)"
      ],
      "execution_count": 12,
      "outputs": [
        {
          "output_type": "execute_result",
          "data": {
            "text/plain": [
              "keras.callbacks.History"
            ]
          },
          "metadata": {},
          "execution_count": 12
        }
      ]
    },
    {
      "cell_type": "code",
      "metadata": {
        "id": "6nRgPxKBVf8y",
        "outputId": "b2b4f2b4-756a-465a-e81b-b088293ae5bf",
        "colab": {
          "base_uri": "https://localhost:8080/"
        }
      },
      "source": [
        "history.history.items()"
      ],
      "execution_count": 15,
      "outputs": [
        {
          "output_type": "execute_result",
          "data": {
            "text/plain": [
              "dict_items([('loss', [34.043758392333984, 33.06971740722656, 31.402559280395508, 29.202438354492188, 26.43948745727539, 23.28584861755371, 20.095441818237305, 17.4125919342041, 15.57919692993164, 14.542366027832031, 14.071036338806152, 13.842235565185547, 13.677248001098633, 13.530871391296387, 13.382609367370605, 13.226524353027344, 13.053573608398438, 12.86333179473877, 12.652050971984863, 12.40989875793457, 12.136545181274414, 11.832663536071777, 11.497617721557617, 11.152894020080566, 10.803010940551758, 10.46452522277832, 10.13122844696045, 9.825438499450684, 9.536155700683594, 9.28492259979248, 9.07387638092041, 8.897534370422363, 8.742653846740723, 8.59851360321045, 8.452001571655273, 8.30491828918457, 8.1552095413208, 7.999436378479004, 7.840369701385498, 7.68049430847168, 7.5224714279174805, 7.367245674133301, 7.225010395050049, 7.092428684234619, 6.953490734100342, 6.8249993324279785, 6.7005534172058105, 6.564026355743408, 6.441644191741943, 6.283385276794434, 6.127135276794434, 5.981959819793701, 5.792880058288574, 5.618030071258545, 5.41102409362793, 5.2031145095825195, 5.007224082946777, 4.810540199279785, 4.627458095550537, 4.857675552368164, 4.598383903503418, 4.350439071655273, 4.1420769691467285, 4.189317226409912, 4.331268310546875, 4.408501148223877, 5.0774993896484375, 4.688267230987549, 4.909143924713135, 4.779618263244629, 5.986039161682129, 5.150384426116943, 6.228198528289795, 6.704961776733398, 6.72770357131958, 6.589108943939209, 8.238147735595703, 8.260152816772461, 10.604449272155762, 20.643810272216797, 13.408388137817383, 13.989298820495605, 11.674149513244629, 25.7747745513916, 16.751869201660156, 17.7897891998291, 26.289470672607422, 15.326916694641113, 14.368057250976562, 17.864002227783203, 11.421527862548828, 25.36179542541504, 19.942596435546875, 12.988901138305664, 16.62856674194336, 15.763017654418945, 14.76593017578125, 22.257314682006836, 28.60228729248047, 45.303375244140625]), ('mae', [34.541603088378906, 33.567237854003906, 31.899797439575195, 29.6994571685791, 26.935195922851562, 23.78053855895996, 20.588712692260742, 17.905550003051758, 16.07118797302246, 15.03432559967041, 14.562970161437988, 14.33423900604248, 14.169498443603516, 14.022795677185059, 13.874247550964355, 13.717850685119629, 13.54461669921875, 13.35421371459961, 13.14277458190918, 12.900276184082031, 12.626143455505371, 12.32205867767334, 11.986520767211914, 11.64125919342041, 11.290689468383789, 10.95168399810791, 10.617349624633789, 10.311935424804688, 10.02153491973877, 9.769566535949707, 9.558100700378418, 9.381257057189941, 9.226275444030762, 9.082003593444824, 8.935345649719238, 8.787631034851074, 8.638018608093262, 8.481388092041016, 8.32225227355957, 8.162022590637207, 8.003828048706055, 7.8485236167907715, 7.706427097320557, 7.5737104415893555, 7.434037685394287, 7.305416584014893, 7.1797895431518555, 7.043344974517822, 6.920711040496826, 6.7614359855651855, 6.604975700378418, 6.459525108337402, 6.269991874694824, 6.094683647155762, 5.887285232543945, 5.678391933441162, 5.482603073120117, 5.285696029663086, 5.102236747741699, 5.337001800537109, 5.075466632843018, 4.826203346252441, 4.616543292999268, 4.664749622344971, 4.807579517364502, 4.885443210601807, 5.557073593139648, 5.167564392089844, 5.388579845428467, 5.258543968200684, 6.47145414352417, 5.629865646362305, 6.713909149169922, 7.191986560821533, 7.213127136230469, 7.0721611976623535, 8.728996276855469, 8.747748374938965, 11.09019660949707, 21.138519287109375, 13.901615142822266, 14.480504989624023, 12.16353988647461, 26.272323608398438, 17.246309280395508, 18.28506851196289, 26.785907745361328, 15.819795608520508, 14.859053611755371, 18.35894203186035, 11.912191390991211, 25.858182907104492, 20.43738555908203, 13.480748176574707, 17.122163772583008, 16.256874084472656, 15.260506629943848, 22.753662109375, 29.098209381103516, 45.800472259521484]), ('lr', [1e-08, 1.1220185e-08, 1.2589254e-08, 1.41253755e-08, 1.5848931e-08, 1.7782794e-08, 1.9952623e-08, 2.2387212e-08, 2.5118863e-08, 2.8183829e-08, 3.1622776e-08, 3.548134e-08, 3.981072e-08, 4.4668358e-08, 5.011872e-08, 5.6234132e-08, 6.309573e-08, 7.079458e-08, 7.943282e-08, 8.9125095e-08, 1e-07, 1.12201846e-07, 1.2589254e-07, 1.4125375e-07, 1.5848931e-07, 1.7782794e-07, 1.9952623e-07, 2.2387212e-07, 2.5118865e-07, 2.8183828e-07, 3.1622776e-07, 3.5481338e-07, 3.9810718e-07, 4.466836e-07, 5.0118723e-07, 5.623413e-07, 6.3095735e-07, 7.079458e-07, 7.9432823e-07, 8.912509e-07, 1e-06, 1.1220185e-06, 1.2589254e-06, 1.4125376e-06, 1.5848932e-06, 1.7782794e-06, 1.9952622e-06, 2.2387212e-06, 2.5118864e-06, 2.8183829e-06, 3.1622776e-06, 3.548134e-06, 3.9810716e-06, 4.466836e-06, 5.0118724e-06, 5.6234135e-06, 6.3095736e-06, 7.0794576e-06, 7.943282e-06, 8.91251e-06, 1e-05, 1.1220184e-05, 1.2589254e-05, 1.4125376e-05, 1.5848931e-05, 1.7782793e-05, 1.9952624e-05, 2.2387212e-05, 2.5118865e-05, 2.818383e-05, 3.1622778e-05, 3.548134e-05, 3.981072e-05, 4.466836e-05, 5.0118724e-05, 5.6234134e-05, 6.309574e-05, 7.079458e-05, 7.943282e-05, 8.91251e-05, 1e-04, 0.000112201844, 0.00012589255, 0.00014125375, 0.00015848932, 0.00017782794, 0.00019952623, 0.00022387212, 0.00025118864, 0.0002818383, 0.00031622776, 0.00035481338, 0.00039810716, 0.00044668358, 0.0005011872, 0.0005623413, 0.00063095737, 0.0007079458, 0.0007943282, 0.00089125097])])"
            ]
          },
          "metadata": {},
          "execution_count": 15
        }
      ]
    },
    {
      "cell_type": "code",
      "metadata": {
        "id": "kOW2A9aUWfLj"
      },
      "source": [
        "learnig_rate=history.history['lr']\n",
        "loss_values=history.history['loss']"
      ],
      "execution_count": 19,
      "outputs": []
    },
    {
      "cell_type": "code",
      "metadata": {
        "id": "8yGbEQboWDIj",
        "outputId": "9e795fc5-a178-4cc0-c64f-e120a7515998",
        "colab": {
          "base_uri": "https://localhost:8080/",
          "height": 286
        }
      },
      "source": [
        "plt.semilogx(learnig_rate,loss_values)"
      ],
      "execution_count": 24,
      "outputs": [
        {
          "output_type": "execute_result",
          "data": {
            "text/plain": [
              "[<matplotlib.lines.Line2D at 0x7f000e491950>]"
            ]
          },
          "metadata": {},
          "execution_count": 24
        },
        {
          "output_type": "display_data",
          "data": {
            "image/png": "[encoded data removed]",
            "text/plain": [
              "<Figure size 432x288 with 1 Axes>"
            ]
          },
          "metadata": {
            "needs_background": "light"
          }
        }
      ]
    },
    {
      "cell_type": "markdown",
      "metadata": {
        "id": "SWkzIQJYXLlc"
      },
      "source": [
        "The best learning rate is 10e-5."
      ]
    },
    {
      "cell_type": "code",
      "metadata": {
        "id": "PEJ0KvVYXDBm"
      },
      "source": [
        ""
      ],
      "execution_count": null,
      "outputs": []
    }
  ]
}