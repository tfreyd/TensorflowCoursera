{
  "nbformat": 4,
  "nbformat_minor": 0,
  "metadata": {
    "accelerator": "GPU",
    "colab": {
      "name": "C3_W3_Assignment.ipynb",
      "provenance": [],
      "toc_visible": true,
      "include_colab_link": true
    },
    "kernelspec": {
      "display_name": "Python 3",
      "language": "python",
      "name": "python3"
    },
    "language_info": {
      "codemirror_mode": {
        "name": "ipython",
        "version": 3
      },
      "file_extension": ".py",
      "mimetype": "text/x-python",
      "name": "python",
      "nbconvert_exporter": "python",
      "pygments_lexer": "ipython3",
      "version": "3.8.5"
    }
  },
  "cells": [
    {
      "cell_type": "markdown",
      "metadata": {
        "id": "view-in-github",
        "colab_type": "text"
      },
      "source": [
        "<a href=\"https://colab.research.google.com/github/tfreyd/TensorflowCoursera/blob/main/C3/W3/assignment/C3_W3_Assignment.ipynb\" target=\"_parent\"><img src=\"https://colab.research.google.com/assets/colab-badge.svg\" alt=\"Open In Colab\"/></a>"
      ]
    },
    {
      "cell_type": "code",
      "metadata": {
        "id": "zX4Kg8DUTKWO"
      },
      "source": [
        "#@title Licensed under the Apache License, Version 2.0 (the \"License\");\n",
        "# you may not use this file except in compliance with the License.\n",
        "# You may obtain a copy of the License at\n",
        "#\n",
        "# https://www.apache.org/licenses/LICENSE-2.0\n",
        "#\n",
        "# Unless required by applicable law or agreed to in writing, software\n",
        "# distributed under the License is distributed on an \"AS IS\" BASIS,\n",
        "# WITHOUT WARRANTIES OR CONDITIONS OF ANY KIND, either express or implied.\n",
        "# See the License for the specific language governing permissions and\n",
        "# limitations under the License."
      ],
      "execution_count": 2,
      "outputs": []
    },
    {
      "cell_type": "markdown",
      "metadata": {
        "id": "gnU1TV9kV5f9"
      },
      "source": [
        "**Note:** This notebook can run using TensorFlow 2.5.0"
      ]
    },
    {
      "cell_type": "code",
      "metadata": {
        "id": "qTZDRvo5V5f9"
      },
      "source": [
        "#!pip install tensorflow==2.5.0"
      ],
      "execution_count": 3,
      "outputs": []
    },
    {
      "cell_type": "code",
      "metadata": {
        "id": "hmA6EzkQJ5jt"
      },
      "source": [
        "import json\n",
        "import tensorflow as tf\n",
        "import csv\n",
        "import random\n",
        "import numpy as np\n",
        "\n",
        "from tensorflow.keras.preprocessing.text import Tokenizer\n",
        "from tensorflow.keras.preprocessing.sequence import pad_sequences\n",
        "from tensorflow.keras.utils import to_categorical\n",
        "from tensorflow.keras import regularizers\n",
        "\n",
        "\n",
        "embedding_dim = 100\n",
        "max_length = 16\n",
        "trunc_type='post'\n",
        "padding_type='post'\n",
        "oov_tok = \"<OOV>\"\n",
        "training_size=160000 #Your dataset size here. Experiment using smaller values (i.e. 16000), but don't forget to train on at least 160000 to see the best effects\n",
        "test_portion=.1\n",
        "\n",
        "corpus = []\n"
      ],
      "execution_count": 28,
      "outputs": []
    },
    {
      "cell_type": "code",
      "metadata": {
        "id": "bM0l_dORKqE0",
        "colab": {
          "base_uri": "https://localhost:8080/"
        },
        "outputId": "d2bcbced-2eea-4de5-9997-ae5788f05c4c"
      },
      "source": [
        "# Note that I cleaned the Stanford dataset to remove LATIN1 encoding to make it easier for Python CSV reader\n",
        "# You can do that yourself with:\n",
        "# iconv -f LATIN1 -t UTF8 training.1600000.processed.noemoticon.csv -o training_cleaned.csv\n",
        "\n",
        "# training_cleaned.csv\n",
        "!gdown --id 1wd8KaeCSHxt-nEpMeuHFSNWrDp8joUXJ"
      ],
      "execution_count": 5,
      "outputs": [
        {
          "output_type": "stream",
          "name": "stdout",
          "text": [
            "Downloading...\n",
            "From: https://drive.google.com/uc?id=1wd8KaeCSHxt-nEpMeuHFSNWrDp8joUXJ\n",
            "To: /content/training_cleaned.csv\n",
            "100% 239M/239M [00:01<00:00, 185MB/s]\n"
          ]
        }
      ]
    },
    {
      "cell_type": "code",
      "metadata": {
        "id": "mdWWj0QVIGba"
      },
      "source": [
        "num_sentences = 0\n",
        "\n",
        "with open(\"./training_cleaned.csv\") as csvfile:\n",
        "    reader = csv.reader(csvfile, delimiter=',')\n",
        "    for row in reader:\n",
        "        list_item=[]\n",
        "      \n",
        "        ### START CODE HERE\n",
        "        text=row[5]\n",
        "        list_item.append(text)\n",
        "\n",
        "        label=row[0]\n",
        "        if label == '0':\n",
        "          label=0\n",
        "        if label == '4':\n",
        "          label=1  \n",
        "        list_item.append(label)\n",
        "        \n",
        "        #Create list items where the first item is the text, found in row[5], and the second is the label. Note that the label is a '0' or a '4' in the text. When it's the former, make\n",
        "        # your label to be 0, otherwise 1. Keep a count of the number of sentences in num_sentences\n",
        "        ### END CODE HERE\n",
        "        \n",
        "        num_sentences = num_sentences + 1\n",
        "        corpus.append(list_item)\n"
      ],
      "execution_count": 29,
      "outputs": []
    },
    {
      "cell_type": "code",
      "metadata": {
        "id": "3kxblBUjEUX-",
        "colab": {
          "base_uri": "https://localhost:8080/"
        },
        "outputId": "2f395f20-a633-4fc9-edec-1e052fc52f84"
      },
      "source": [
        "print(num_sentences)\n",
        "print(len(corpus))\n",
        "print(corpus[1])\n",
        "\n",
        "# Expected Output:\n",
        "# 1600000\n",
        "# 1600000\n",
        "# [\"is upset that he can't update his Facebook by texting it... and might cry as a result  School today also. Blah!\", 0]"
      ],
      "execution_count": 31,
      "outputs": [
        {
          "output_type": "stream",
          "name": "stdout",
          "text": [
            "1600000\n",
            "1600000\n",
            "[\"is upset that he can't update his Facebook by texting it... and might cry as a result  School today also. Blah!\", 0]\n"
          ]
        }
      ]
    },
    {
      "cell_type": "code",
      "metadata": {
        "id": "ohOGz24lsNAD"
      },
      "source": [
        "sentences=[]\n",
        "labels=[]\n",
        "random.shuffle(corpus)\n",
        "for x in range(training_size):\n",
        "    sentences.append(corpus[x][0])# YOUR CODE HERE)\n",
        "    labels.append(corpus[x][1])# YOUR CODE HERE)\n",
        "\n",
        "\n",
        "tokenizer = Tokenizer()\n",
        "tokenizer.fit_on_texts(sentences) # YOUR CODE HERE)\n",
        "\n",
        "word_index = tokenizer.word_index\n",
        "vocab_size=len(word_index)# YOUR CODE HERE)\n",
        "\n",
        "sequences = tokenizer.texts_to_sequences(sentences)# YOUR CODE HERE)\n",
        "padded = pad_sequences(sequences,maxlen=max_length, padding=padding_type, truncating=trunc_type) # YOUR CODE HERE)\n",
        "\n",
        "split = int(test_portion * training_size)\n",
        "\n",
        "test_sequences = np.array(padded[:split])# YOUR CODE HERE]\n",
        "training_sequences = np.array(padded[split:])# YOUR CODE HERE]\n",
        "test_labels = np.array(labels[:split])# YOUR CODE HERE]\n",
        "training_labels = np.array(labels[split:])# YOUR CODE HERE]"
      ],
      "execution_count": 62,
      "outputs": []
    },
    {
      "cell_type": "code",
      "metadata": {
        "id": "gIrtRem1En3N",
        "colab": {
          "base_uri": "https://localhost:8080/"
        },
        "outputId": "6021f2ec-5344-4e34-e4a6-0d0fb39f0327"
      },
      "source": [
        "print(vocab_size)\n",
        "print(word_index['i'])\n",
        "# Expected Output\n",
        "# 138856\n",
        "# 1"
      ],
      "execution_count": 63,
      "outputs": [
        {
          "output_type": "stream",
          "name": "stdout",
          "text": [
            "138568\n",
            "1\n"
          ]
        }
      ]
    },
    {
      "cell_type": "code",
      "metadata": {
        "id": "C1zdgJkusRh0",
        "colab": {
          "base_uri": "https://localhost:8080/"
        },
        "outputId": "2b6e7b02-481c-454d-cd3e-2fdd84baf062"
      },
      "source": [
        "# Note this is the 100 dimension version of GloVe from Stanford\n",
        "\n",
        "# glove.6B.100d.txt\n",
        "!gdown --id 1W5vZy2etitAblLdFn8_DxnsQKzfFJ98g\n",
        "\n",
        "embeddings_index = {};\n",
        "with open('./glove.6B.100d.txt') as f:\n",
        "    for line in f:\n",
        "        values = line.split();\n",
        "        word = values[0];\n",
        "        coefs = np.asarray(values[1:], dtype='float32');\n",
        "        embeddings_index[word] = coefs;\n",
        "\n",
        "embeddings_matrix = np.zeros((vocab_size+1, embedding_dim));\n",
        "for word, i in word_index.items():\n",
        "    embedding_vector = embeddings_index.get(word);\n",
        "    if embedding_vector is not None:\n",
        "        embeddings_matrix[i] = embedding_vector;"
      ],
      "execution_count": 64,
      "outputs": [
        {
          "output_type": "stream",
          "name": "stdout",
          "text": [
            "Downloading...\n",
            "From: https://drive.google.com/uc?id=1W5vZy2etitAblLdFn8_DxnsQKzfFJ98g\n",
            "To: /content/glove.6B.100d.txt\n",
            "100% 347M/347M [00:01<00:00, 189MB/s]\n"
          ]
        }
      ]
    },
    {
      "cell_type": "code",
      "metadata": {
        "id": "71NLk_lpFLNt",
        "colab": {
          "base_uri": "https://localhost:8080/"
        },
        "outputId": "4cb167ed-3e80-4f92-b193-fc3174406af8"
      },
      "source": [
        "print(len(embeddings_matrix))\n",
        "# Expected Output\n",
        "# 138857"
      ],
      "execution_count": 51,
      "outputs": [
        {
          "output_type": "stream",
          "name": "stdout",
          "text": [
            "138750\n"
          ]
        }
      ]
    },
    {
      "cell_type": "code",
      "metadata": {
        "id": "iKKvbuEBOGFz",
        "colab": {
          "base_uri": "https://localhost:8080/"
        },
        "outputId": "d7fc636c-0a1e-4ec0-8a34-ce019b2d96d5"
      },
      "source": [
        "model = tf.keras.Sequential([\n",
        "    tf.keras.layers.Embedding(vocab_size+1, embedding_dim, input_length=max_length, weights=[embeddings_matrix], trainable=False),\n",
        "    # YOUR CODE HERE - experiment with combining different types, such as convolutions and LSTMs\n",
        "    tf.keras.layers.Conv1D(128,5,activation='relu'),\n",
        "    tf.keras.layers.GlobalAveragePooling1D(),\n",
        "    tf.keras.layers.Dense(128,activation='relu'),\n",
        "    tf.keras.layers.Dense(1,activation='sigmoid')\n",
        "])\n",
        "model.compile(loss='binary_crossentropy', optimizer='adam',metrics=['accuracy'])# YOUR CODE HERE)\n",
        "model.summary()\n",
        "\n",
        "num_epochs = 50\n",
        "history = model.fit(training_sequences, \n",
        "                    training_labels, \n",
        "                    epochs=num_epochs,\n",
        "                    validation_data=(test_sequences, test_labels),\n",
        "                    verbose=2)\n",
        "\n",
        "print(\"Training Complete\")\n"
      ],
      "execution_count": 65,
      "outputs": [
        {
          "output_type": "stream",
          "name": "stdout",
          "text": [
            "Model: \"sequential_6\"\n",
            "_________________________________________________________________\n",
            "Layer (type)                 Output Shape              Param #   \n",
            "=================================================================\n",
            "embedding_7 (Embedding)      (None, 16, 100)           13856900  \n",
            "_________________________________________________________________\n",
            "conv1d_7 (Conv1D)            (None, 12, 128)           64128     \n",
            "_________________________________________________________________\n",
            "global_average_pooling1d_7 ( (None, 128)               0         \n",
            "_________________________________________________________________\n",
            "dense_12 (Dense)             (None, 128)               16512     \n",
            "_________________________________________________________________\n",
            "dense_13 (Dense)             (None, 1)                 129       \n",
            "=================================================================\n",
            "Total params: 13,937,669\n",
            "Trainable params: 80,769\n",
            "Non-trainable params: 13,856,900\n",
            "_________________________________________________________________\n",
            "Epoch 1/50\n",
            "4500/4500 - 42s - loss: 0.5546 - accuracy: 0.7106 - val_loss: 0.5354 - val_accuracy: 0.7238\n",
            "Epoch 2/50\n",
            "4500/4500 - 11s - loss: 0.5069 - accuracy: 0.7467 - val_loss: 0.5143 - val_accuracy: 0.7387\n",
            "Epoch 3/50\n",
            "4500/4500 - 11s - loss: 0.4803 - accuracy: 0.7639 - val_loss: 0.5157 - val_accuracy: 0.7461\n",
            "Epoch 4/50\n",
            "4500/4500 - 11s - loss: 0.4568 - accuracy: 0.7795 - val_loss: 0.5172 - val_accuracy: 0.7432\n",
            "Epoch 5/50\n",
            "4500/4500 - 11s - loss: 0.4352 - accuracy: 0.7919 - val_loss: 0.5197 - val_accuracy: 0.7403\n",
            "Epoch 6/50\n",
            "4500/4500 - 11s - loss: 0.4153 - accuracy: 0.8044 - val_loss: 0.5255 - val_accuracy: 0.7444\n",
            "Epoch 7/50\n",
            "4500/4500 - 11s - loss: 0.3952 - accuracy: 0.8154 - val_loss: 0.5510 - val_accuracy: 0.7397\n",
            "Epoch 8/50\n",
            "4500/4500 - 11s - loss: 0.3769 - accuracy: 0.8247 - val_loss: 0.5639 - val_accuracy: 0.7393\n",
            "Epoch 9/50\n",
            "4500/4500 - 12s - loss: 0.3605 - accuracy: 0.8342 - val_loss: 0.6235 - val_accuracy: 0.7359\n",
            "Epoch 10/50\n",
            "4500/4500 - 11s - loss: 0.3459 - accuracy: 0.8416 - val_loss: 0.6159 - val_accuracy: 0.7301\n",
            "Epoch 11/50\n",
            "4500/4500 - 11s - loss: 0.3317 - accuracy: 0.8482 - val_loss: 0.6510 - val_accuracy: 0.7296\n",
            "Epoch 12/50\n",
            "4500/4500 - 11s - loss: 0.3188 - accuracy: 0.8552 - val_loss: 0.6898 - val_accuracy: 0.7291\n",
            "Epoch 13/50\n",
            "4500/4500 - 11s - loss: 0.3061 - accuracy: 0.8614 - val_loss: 0.6722 - val_accuracy: 0.7306\n",
            "Epoch 14/50\n",
            "4500/4500 - 11s - loss: 0.2940 - accuracy: 0.8684 - val_loss: 0.7062 - val_accuracy: 0.7221\n",
            "Epoch 15/50\n",
            "4500/4500 - 12s - loss: 0.2833 - accuracy: 0.8730 - val_loss: 0.8155 - val_accuracy: 0.7254\n",
            "Epoch 16/50\n",
            "4500/4500 - 11s - loss: 0.2715 - accuracy: 0.8787 - val_loss: 0.7742 - val_accuracy: 0.7265\n",
            "Epoch 17/50\n",
            "4500/4500 - 11s - loss: 0.2612 - accuracy: 0.8826 - val_loss: 0.8607 - val_accuracy: 0.7280\n",
            "Epoch 18/50\n",
            "4500/4500 - 11s - loss: 0.2529 - accuracy: 0.8889 - val_loss: 0.8621 - val_accuracy: 0.7246\n",
            "Epoch 19/50\n",
            "4500/4500 - 11s - loss: 0.2429 - accuracy: 0.8936 - val_loss: 0.8750 - val_accuracy: 0.7226\n",
            "Epoch 20/50\n",
            "4500/4500 - 11s - loss: 0.2360 - accuracy: 0.8970 - val_loss: 0.9313 - val_accuracy: 0.7198\n",
            "Epoch 21/50\n",
            "4500/4500 - 11s - loss: 0.2276 - accuracy: 0.9008 - val_loss: 0.9668 - val_accuracy: 0.7150\n",
            "Epoch 22/50\n",
            "4500/4500 - 11s - loss: 0.2188 - accuracy: 0.9047 - val_loss: 0.9994 - val_accuracy: 0.7171\n",
            "Epoch 23/50\n",
            "4500/4500 - 11s - loss: 0.2119 - accuracy: 0.9083 - val_loss: 1.0453 - val_accuracy: 0.7116\n",
            "Epoch 24/50\n",
            "4500/4500 - 11s - loss: 0.2044 - accuracy: 0.9116 - val_loss: 1.0724 - val_accuracy: 0.7122\n",
            "Epoch 25/50\n",
            "4500/4500 - 11s - loss: 0.1982 - accuracy: 0.9147 - val_loss: 1.1316 - val_accuracy: 0.7189\n",
            "Epoch 26/50\n",
            "4500/4500 - 11s - loss: 0.1933 - accuracy: 0.9175 - val_loss: 1.1559 - val_accuracy: 0.7098\n",
            "Epoch 27/50\n",
            "4500/4500 - 11s - loss: 0.1868 - accuracy: 0.9198 - val_loss: 1.1597 - val_accuracy: 0.7055\n",
            "Epoch 28/50\n",
            "4500/4500 - 11s - loss: 0.1802 - accuracy: 0.9238 - val_loss: 1.2496 - val_accuracy: 0.7016\n",
            "Epoch 29/50\n",
            "4500/4500 - 11s - loss: 0.1761 - accuracy: 0.9254 - val_loss: 1.2857 - val_accuracy: 0.7112\n",
            "Epoch 30/50\n",
            "4500/4500 - 11s - loss: 0.1690 - accuracy: 0.9290 - val_loss: 1.3255 - val_accuracy: 0.7089\n",
            "Epoch 31/50\n",
            "4500/4500 - 11s - loss: 0.1662 - accuracy: 0.9294 - val_loss: 1.3217 - val_accuracy: 0.7084\n",
            "Epoch 32/50\n",
            "4500/4500 - 11s - loss: 0.1584 - accuracy: 0.9338 - val_loss: 1.4384 - val_accuracy: 0.7146\n",
            "Epoch 33/50\n",
            "4500/4500 - 12s - loss: 0.1556 - accuracy: 0.9353 - val_loss: 1.4606 - val_accuracy: 0.7111\n",
            "Epoch 34/50\n",
            "4500/4500 - 11s - loss: 0.1512 - accuracy: 0.9368 - val_loss: 1.4396 - val_accuracy: 0.7069\n",
            "Epoch 35/50\n",
            "4500/4500 - 11s - loss: 0.1494 - accuracy: 0.9380 - val_loss: 1.4879 - val_accuracy: 0.7090\n",
            "Epoch 36/50\n",
            "4500/4500 - 11s - loss: 0.1436 - accuracy: 0.9404 - val_loss: 1.6023 - val_accuracy: 0.7080\n",
            "Epoch 37/50\n",
            "4500/4500 - 11s - loss: 0.1389 - accuracy: 0.9427 - val_loss: 1.6775 - val_accuracy: 0.7078\n",
            "Epoch 38/50\n",
            "4500/4500 - 11s - loss: 0.1359 - accuracy: 0.9435 - val_loss: 1.7121 - val_accuracy: 0.6993\n",
            "Epoch 39/50\n",
            "4500/4500 - 11s - loss: 0.1331 - accuracy: 0.9455 - val_loss: 1.6848 - val_accuracy: 0.7072\n",
            "Epoch 40/50\n",
            "4500/4500 - 11s - loss: 0.1299 - accuracy: 0.9468 - val_loss: 1.7148 - val_accuracy: 0.7044\n",
            "Epoch 41/50\n",
            "4500/4500 - 11s - loss: 0.1259 - accuracy: 0.9485 - val_loss: 1.8190 - val_accuracy: 0.7091\n",
            "Epoch 42/50\n",
            "4500/4500 - 11s - loss: 0.1238 - accuracy: 0.9490 - val_loss: 1.8573 - val_accuracy: 0.7061\n",
            "Epoch 43/50\n",
            "4500/4500 - 11s - loss: 0.1208 - accuracy: 0.9511 - val_loss: 1.8296 - val_accuracy: 0.7023\n",
            "Epoch 44/50\n",
            "4500/4500 - 11s - loss: 0.1179 - accuracy: 0.9529 - val_loss: 1.8793 - val_accuracy: 0.7080\n",
            "Epoch 45/50\n",
            "4500/4500 - 11s - loss: 0.1154 - accuracy: 0.9531 - val_loss: 1.8427 - val_accuracy: 0.7016\n",
            "Epoch 46/50\n",
            "4500/4500 - 11s - loss: 0.1126 - accuracy: 0.9548 - val_loss: 2.0176 - val_accuracy: 0.7057\n",
            "Epoch 47/50\n",
            "4500/4500 - 11s - loss: 0.1106 - accuracy: 0.9560 - val_loss: 1.9345 - val_accuracy: 0.6992\n",
            "Epoch 48/50\n",
            "4500/4500 - 12s - loss: 0.1087 - accuracy: 0.9561 - val_loss: 1.9743 - val_accuracy: 0.7021\n",
            "Epoch 49/50\n",
            "4500/4500 - 11s - loss: 0.1066 - accuracy: 0.9573 - val_loss: 2.0443 - val_accuracy: 0.7063\n",
            "Epoch 50/50\n",
            "4500/4500 - 11s - loss: 0.1022 - accuracy: 0.9592 - val_loss: 2.0295 - val_accuracy: 0.6959\n",
            "Training Complete\n"
          ]
        }
      ]
    },
    {
      "cell_type": "code",
      "metadata": {
        "id": "qxju4ItJKO8F",
        "colab": {
          "base_uri": "https://localhost:8080/",
          "height": 607
        },
        "outputId": "6239edbb-5796-4272-c45d-3f527824cbcd"
      },
      "source": [
        "import matplotlib.image  as mpimg\n",
        "import matplotlib.pyplot as plt\n",
        "\n",
        "#-----------------------------------------------------------\n",
        "# Retrieve a list of list results on training and test data\n",
        "# sets for each training epoch\n",
        "#-----------------------------------------------------------\n",
        "acc=history.history['accuracy']\n",
        "val_acc=history.history['val_accuracy']\n",
        "loss=history.history['loss']\n",
        "val_loss=history.history['val_loss']\n",
        "\n",
        "epochs=range(len(acc)) # Get number of epochs\n",
        "\n",
        "#------------------------------------------------\n",
        "# Plot training and validation accuracy per epoch\n",
        "#------------------------------------------------\n",
        "plt.plot(epochs, acc, 'r')\n",
        "plt.plot(epochs, val_acc, 'b')\n",
        "plt.title('Training and validation accuracy')\n",
        "plt.xlabel(\"Epochs\")\n",
        "plt.ylabel(\"Accuracy\")\n",
        "plt.legend([\"Accuracy\", \"Validation Accuracy\"])\n",
        "\n",
        "plt.figure()\n",
        "\n",
        "#------------------------------------------------\n",
        "# Plot training and validation loss per epoch\n",
        "#------------------------------------------------\n",
        "plt.plot(epochs, loss, 'r')\n",
        "plt.plot(epochs, val_loss, 'b')\n",
        "plt.title('Training and validation loss')\n",
        "plt.xlabel(\"Epochs\")\n",
        "plt.ylabel(\"Loss\")\n",
        "plt.legend([\"Loss\", \"Validation Loss\"])\n",
        "\n",
        "plt.figure()\n",
        "\n",
        "\n",
        "# Expected Output\n",
        "# A chart where the validation loss does not increase sharply!"
      ],
      "execution_count": 66,
      "outputs": [
        {
          "output_type": "execute_result",
          "data": {
            "text/plain": [
              "<Figure size 432x288 with 0 Axes>"
            ]
          },
          "metadata": {},
          "execution_count": 66
        },
        {
          "output_type": "display_data",
          "data": {
            "image/png": "[encoded data removed]",
            "text/plain": [
              "<Figure size 432x288 with 1 Axes>"
            ]
          },
          "metadata": {
            "needs_background": "light"
          }
        },
        {
          "output_type": "display_data",
          "data": {
            "image/png": "[encoded data removed]",
            "text/plain": [
              "<Figure size 432x288 with 1 Axes>"
            ]
          },
          "metadata": {
            "needs_background": "light"
          }
        },
        {
          "output_type": "display_data",
          "data": {
            "text/plain": [
              "<Figure size 432x288 with 0 Axes>"
            ]
          },
          "metadata": {}
        }
      ]
    },
    {
      "cell_type": "code",
      "metadata": {
        "id": "P3cp9n6FVgel"
      },
      "source": [
        ""
      ],
      "execution_count": null,
      "outputs": []
    }
  ]
}