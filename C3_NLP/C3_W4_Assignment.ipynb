{
  "nbformat": 4,
  "nbformat_minor": 0,
  "metadata": {
    "accelerator": "GPU",
    "colab": {
      "name": "C3_W4_Assignment.ipynb",
      "provenance": [],
      "toc_visible": true,
      "include_colab_link": true
    },
    "kernelspec": {
      "display_name": "Python 3",
      "language": "python",
      "name": "python3"
    },
    "language_info": {
      "codemirror_mode": {
        "name": "ipython",
        "version": 3
      },
      "file_extension": ".py",
      "mimetype": "text/x-python",
      "name": "python",
      "nbconvert_exporter": "python",
      "pygments_lexer": "ipython3",
      "version": "3.8.5"
    }
  },
  "cells": [
    {
      "cell_type": "markdown",
      "metadata": {
        "id": "view-in-github",
        "colab_type": "text"
      },
      "source": [
        "<a href=\"https://colab.research.google.com/github/tfreyd/TensorflowCoursera/blob/main/C3/W4/assignment/C3_W4_Assignment.ipynb\" target=\"_parent\"><img src=\"https://colab.research.google.com/assets/colab-badge.svg\" alt=\"Open In Colab\"/></a>"
      ]
    },
    {
      "cell_type": "code",
      "metadata": {
        "id": "T2XpcPvbXalN"
      },
      "source": [
        "#@title Licensed under the Apache License, Version 2.0 (the \"License\");\n",
        "# you may not use this file except in compliance with the License.\n",
        "# You may obtain a copy of the License at\n",
        "#\n",
        "# https://www.apache.org/licenses/LICENSE-2.0\n",
        "#\n",
        "# Unless required by applicable law or agreed to in writing, software\n",
        "# distributed under the License is distributed on an \"AS IS\" BASIS,\n",
        "# WITHOUT WARRANTIES OR CONDITIONS OF ANY KIND, either express or implied.\n",
        "# See the License for the specific language governing permissions and\n",
        "# limitations under the License."
      ],
      "execution_count": null,
      "outputs": []
    },
    {
      "cell_type": "markdown",
      "metadata": {
        "id": "eK88h3Y5XalO"
      },
      "source": [
        "**Note:** This notebook can run using TensorFlow 2.5.0"
      ]
    },
    {
      "cell_type": "code",
      "metadata": {
        "id": "zX4Kg8DUTKWO"
      },
      "source": [
        "#!pip install tensorflow==2.5.0"
      ],
      "execution_count": null,
      "outputs": []
    },
    {
      "cell_type": "code",
      "metadata": {
        "id": "BOwsuGQQY9OL"
      },
      "source": [
        "from tensorflow.keras.preprocessing.sequence import pad_sequences\n",
        "from tensorflow.keras.layers import Embedding, LSTM, Dense, Dropout, Bidirectional\n",
        "from tensorflow.keras.preprocessing.text import Tokenizer\n",
        "from tensorflow.keras.models import Sequential\n",
        "from tensorflow.keras.optimizers import Adam\n",
        "### YOUR CODE HERE\n",
        "# https://www.tensorflow.org/api_docs/python/tf/keras/regularizers\n",
        "from tensorflow.keras import regularizers\n",
        "###\n",
        "import tensorflow.keras.utils as ku \n",
        "import numpy as np "
      ],
      "execution_count": 6,
      "outputs": []
    },
    {
      "cell_type": "code",
      "metadata": {
        "id": "PRnDnCW-Z7qv",
        "outputId": "06ec5089-3c98-46fa-9677-e014a9fdc3d6",
        "colab": {
          "base_uri": "https://localhost:8080/"
        }
      },
      "source": [
        "tokenizer = Tokenizer()\n",
        "\n",
        "# sonnets.txt\n",
        "!gdown --id 108jAePKK4R3BVYBbYJZ32JWUwxeMg20K\n",
        "\n",
        "data = open('./sonnets.txt').read()\n",
        "\n",
        "corpus = data.lower().split(\"\\n\")\n",
        "\n",
        "\n",
        "tokenizer.fit_on_texts(corpus)\n",
        "total_words = len(tokenizer.word_index) + 1\n",
        "\n",
        "# create input sequences using list of tokens\n",
        "input_sequences = []\n",
        "for line in corpus:\n",
        "\ttoken_list = tokenizer.texts_to_sequences([line])[0]\n",
        "\tfor i in range(1, len(token_list)):\n",
        "\t\tn_gram_sequence = token_list[:i+1]\n",
        "\t\tinput_sequences.append(n_gram_sequence)\n",
        "\n",
        "\n",
        "# pad sequences \n",
        "max_sequence_len = max([len(x) for x in input_sequences])\n",
        "input_sequences = np.array(pad_sequences(input_sequences, maxlen=max_sequence_len, padding='pre'))\n",
        "\n",
        "# create predictors and label\n",
        "predictors, label = input_sequences[:,:-1],input_sequences[:,-1]\n",
        "\n",
        "label = ku.to_categorical(label, num_classes=total_words)"
      ],
      "execution_count": 23,
      "outputs": [
        {
          "output_type": "stream",
          "name": "stdout",
          "text": [
            "Downloading...\n",
            "From: https://drive.google.com/uc?id=108jAePKK4R3BVYBbYJZ32JWUwxeMg20K\n",
            "To: /content/sonnets.txt\n",
            "\r  0% 0.00/93.6k [00:00<?, ?B/s]\r100% 93.6k/93.6k [00:00<00:00, 32.9MB/s]\n"
          ]
        }
      ]
    },
    {
      "cell_type": "code",
      "metadata": {
        "id": "w9vH8Y59ajYL",
        "outputId": "878544b4-11e9-4317-cc31-8665a4aa7000",
        "colab": {
          "base_uri": "https://localhost:8080/"
        }
      },
      "source": [
        "### START CODE HERE\n",
        "model = Sequential()\n",
        "model.add(Embedding(total_words,100,input_length=max_sequence_len-1))# Your Embedding Layer)\n",
        "model.add(Bidirectional(LSTM(200,return_sequences=True)))\n",
        "model.add(Dropout(0.2) )\n",
        "model.add(Bidirectional(LSTM(64)))# Another LSTM Layer)\n",
        "model.add(Dense(1024,activation='relu',kernel_regularizer=regularizers.l2(0.01)))# A Dense Layer including regularizers)\n",
        "model.add(Dense(total_words,activation='softmax'))# A Dense Layer)\n",
        "# Pick an optimizer\n",
        "optimizer='Adam'\n",
        "\n",
        "model.compile(loss='categorical_crossentropy',optimizer=optimizer,metrics=['accuracy'])# Pick a loss function and an optimizer)\n",
        "### END CODE HERE\n",
        "    \n",
        "print(model.summary())"
      ],
      "execution_count": 24,
      "outputs": [
        {
          "output_type": "stream",
          "name": "stdout",
          "text": [
            "Model: \"sequential_6\"\n",
            "_________________________________________________________________\n",
            "Layer (type)                 Output Shape              Param #   \n",
            "=================================================================\n",
            "embedding_4 (Embedding)      (None, 10, 100)           321100    \n",
            "_________________________________________________________________\n",
            "bidirectional_8 (Bidirection (None, 10, 128)           84480     \n",
            "_________________________________________________________________\n",
            "dropout_4 (Dropout)          (None, 10, 128)           0         \n",
            "_________________________________________________________________\n",
            "bidirectional_9 (Bidirection (None, 128)               98816     \n",
            "_________________________________________________________________\n",
            "dense_4 (Dense)              (None, 1024)              132096    \n",
            "_________________________________________________________________\n",
            "dense_5 (Dense)              (None, 3211)              3291275   \n",
            "=================================================================\n",
            "Total params: 3,927,767\n",
            "Trainable params: 3,927,767\n",
            "Non-trainable params: 0\n",
            "_________________________________________________________________\n",
            "None\n"
          ]
        }
      ]
    },
    {
      "cell_type": "code",
      "metadata": {
        "id": "AIg2f1HBxqof",
        "outputId": "6ba79cca-f9ec-4f31-cd07-51eebd1256d5",
        "colab": {
          "base_uri": "https://localhost:8080/"
        }
      },
      "source": [
        " history = model.fit(predictors,\n",
        "                     label, \n",
        "                     epochs=100, \n",
        "                     verbose=1)"
      ],
      "execution_count": 25,
      "outputs": [
        {
          "output_type": "stream",
          "name": "stdout",
          "text": [
            "Epoch 1/100\n",
            "484/484 [==============================] - 23s 23ms/step - loss: 6.9717 - accuracy: 0.0200\n",
            "Epoch 2/100\n",
            "484/484 [==============================] - 11s 24ms/step - loss: 6.5176 - accuracy: 0.0214\n",
            "Epoch 3/100\n",
            "484/484 [==============================] - 11s 24ms/step - loss: 6.4330 - accuracy: 0.0226\n",
            "Epoch 4/100\n",
            "484/484 [==============================] - 11s 24ms/step - loss: 6.3256 - accuracy: 0.0268\n",
            "Epoch 5/100\n",
            "484/484 [==============================] - 11s 24ms/step - loss: 6.2165 - accuracy: 0.0351\n",
            "Epoch 6/100\n",
            "484/484 [==============================] - 11s 24ms/step - loss: 6.1150 - accuracy: 0.0383\n",
            "Epoch 7/100\n",
            "484/484 [==============================] - 11s 24ms/step - loss: 6.0118 - accuracy: 0.0429\n",
            "Epoch 8/100\n",
            "484/484 [==============================] - 11s 24ms/step - loss: 5.8934 - accuracy: 0.0464\n",
            "Epoch 9/100\n",
            "484/484 [==============================] - 11s 24ms/step - loss: 5.7788 - accuracy: 0.0510\n",
            "Epoch 10/100\n",
            "484/484 [==============================] - 11s 24ms/step - loss: 5.6706 - accuracy: 0.0571\n",
            "Epoch 11/100\n",
            "484/484 [==============================] - 11s 24ms/step - loss: 5.5672 - accuracy: 0.0631\n",
            "Epoch 12/100\n",
            "484/484 [==============================] - 12s 24ms/step - loss: 5.4614 - accuracy: 0.0685\n",
            "Epoch 13/100\n",
            "484/484 [==============================] - 12s 24ms/step - loss: 5.3589 - accuracy: 0.0785\n",
            "Epoch 14/100\n",
            "484/484 [==============================] - 11s 24ms/step - loss: 5.2606 - accuracy: 0.0858\n",
            "Epoch 15/100\n",
            "484/484 [==============================] - 11s 24ms/step - loss: 5.1596 - accuracy: 0.0917\n",
            "Epoch 16/100\n",
            "484/484 [==============================] - 11s 24ms/step - loss: 5.0662 - accuracy: 0.1033\n",
            "Epoch 17/100\n",
            "484/484 [==============================] - 11s 24ms/step - loss: 4.9591 - accuracy: 0.1061\n",
            "Epoch 18/100\n",
            "484/484 [==============================] - 11s 24ms/step - loss: 4.8641 - accuracy: 0.1149\n",
            "Epoch 19/100\n",
            "484/484 [==============================] - 11s 24ms/step - loss: 4.7645 - accuracy: 0.1255\n",
            "Epoch 20/100\n",
            "484/484 [==============================] - 11s 24ms/step - loss: 4.6708 - accuracy: 0.1294\n",
            "Epoch 21/100\n",
            "484/484 [==============================] - 11s 24ms/step - loss: 4.5764 - accuracy: 0.1399\n",
            "Epoch 22/100\n",
            "484/484 [==============================] - 11s 24ms/step - loss: 4.4784 - accuracy: 0.1453\n",
            "Epoch 23/100\n",
            "484/484 [==============================] - 11s 24ms/step - loss: 4.3854 - accuracy: 0.1537\n",
            "Epoch 24/100\n",
            "484/484 [==============================] - 12s 24ms/step - loss: 4.2969 - accuracy: 0.1611\n",
            "Epoch 25/100\n",
            "484/484 [==============================] - 11s 24ms/step - loss: 4.2100 - accuracy: 0.1715\n",
            "Epoch 26/100\n",
            "484/484 [==============================] - 11s 24ms/step - loss: 4.1285 - accuracy: 0.1808\n",
            "Epoch 27/100\n",
            "484/484 [==============================] - 12s 24ms/step - loss: 4.0265 - accuracy: 0.1949\n",
            "Epoch 28/100\n",
            "484/484 [==============================] - 12s 24ms/step - loss: 3.9541 - accuracy: 0.2043\n",
            "Epoch 29/100\n",
            "484/484 [==============================] - 12s 24ms/step - loss: 3.8676 - accuracy: 0.2147\n",
            "Epoch 30/100\n",
            "484/484 [==============================] - 12s 24ms/step - loss: 3.7864 - accuracy: 0.2321\n",
            "Epoch 31/100\n",
            "484/484 [==============================] - 12s 24ms/step - loss: 3.6984 - accuracy: 0.2449\n",
            "Epoch 32/100\n",
            "484/484 [==============================] - 12s 24ms/step - loss: 3.6371 - accuracy: 0.2581\n",
            "Epoch 33/100\n",
            "484/484 [==============================] - 11s 24ms/step - loss: 3.5605 - accuracy: 0.2749\n",
            "Epoch 34/100\n",
            "484/484 [==============================] - 12s 24ms/step - loss: 3.4861 - accuracy: 0.2921\n",
            "Epoch 35/100\n",
            "484/484 [==============================] - 11s 24ms/step - loss: 3.4082 - accuracy: 0.3029\n",
            "Epoch 36/100\n",
            "484/484 [==============================] - 12s 24ms/step - loss: 3.3549 - accuracy: 0.3163\n",
            "Epoch 37/100\n",
            "484/484 [==============================] - 11s 24ms/step - loss: 3.2815 - accuracy: 0.3310\n",
            "Epoch 38/100\n",
            "484/484 [==============================] - 11s 24ms/step - loss: 3.2145 - accuracy: 0.3455\n",
            "Epoch 39/100\n",
            "484/484 [==============================] - 12s 24ms/step - loss: 3.1523 - accuracy: 0.3591\n",
            "Epoch 40/100\n",
            "484/484 [==============================] - 11s 24ms/step - loss: 3.0892 - accuracy: 0.3724\n",
            "Epoch 41/100\n",
            "484/484 [==============================] - 12s 24ms/step - loss: 3.0306 - accuracy: 0.3901\n",
            "Epoch 42/100\n",
            "484/484 [==============================] - 11s 24ms/step - loss: 2.9835 - accuracy: 0.3940\n",
            "Epoch 43/100\n",
            "484/484 [==============================] - 12s 24ms/step - loss: 2.9215 - accuracy: 0.4071\n",
            "Epoch 44/100\n",
            "484/484 [==============================] - 11s 24ms/step - loss: 2.8700 - accuracy: 0.4220\n",
            "Epoch 45/100\n",
            "484/484 [==============================] - 11s 24ms/step - loss: 2.8163 - accuracy: 0.4326\n",
            "Epoch 46/100\n",
            "484/484 [==============================] - 11s 23ms/step - loss: 2.7662 - accuracy: 0.4424\n",
            "Epoch 47/100\n",
            "484/484 [==============================] - 11s 24ms/step - loss: 2.7177 - accuracy: 0.4534\n",
            "Epoch 48/100\n",
            "484/484 [==============================] - 11s 24ms/step - loss: 2.6634 - accuracy: 0.4660\n",
            "Epoch 49/100\n",
            "484/484 [==============================] - 11s 24ms/step - loss: 2.6148 - accuracy: 0.4763\n",
            "Epoch 50/100\n",
            "484/484 [==============================] - 11s 24ms/step - loss: 2.5697 - accuracy: 0.4892\n",
            "Epoch 51/100\n",
            "484/484 [==============================] - 11s 24ms/step - loss: 2.5461 - accuracy: 0.4905\n",
            "Epoch 52/100\n",
            "484/484 [==============================] - 11s 24ms/step - loss: 2.4918 - accuracy: 0.5037\n",
            "Epoch 53/100\n",
            "484/484 [==============================] - 11s 23ms/step - loss: 2.4391 - accuracy: 0.5200\n",
            "Epoch 54/100\n",
            "484/484 [==============================] - 11s 23ms/step - loss: 2.4131 - accuracy: 0.5247\n",
            "Epoch 55/100\n",
            "484/484 [==============================] - 11s 23ms/step - loss: 2.3713 - accuracy: 0.5303\n",
            "Epoch 56/100\n",
            "484/484 [==============================] - 11s 24ms/step - loss: 2.3343 - accuracy: 0.5385\n",
            "Epoch 57/100\n",
            "484/484 [==============================] - 11s 23ms/step - loss: 2.2855 - accuracy: 0.5552\n",
            "Epoch 58/100\n",
            "484/484 [==============================] - 11s 24ms/step - loss: 2.2562 - accuracy: 0.5591\n",
            "Epoch 59/100\n",
            "484/484 [==============================] - 11s 24ms/step - loss: 2.2184 - accuracy: 0.5695\n",
            "Epoch 60/100\n",
            "484/484 [==============================] - 11s 24ms/step - loss: 2.1879 - accuracy: 0.5753\n",
            "Epoch 61/100\n",
            "484/484 [==============================] - 11s 24ms/step - loss: 2.1513 - accuracy: 0.5827\n",
            "Epoch 62/100\n",
            "484/484 [==============================] - 11s 24ms/step - loss: 2.1201 - accuracy: 0.5889\n",
            "Epoch 63/100\n",
            "484/484 [==============================] - 11s 24ms/step - loss: 2.0832 - accuracy: 0.5993\n",
            "Epoch 64/100\n",
            "484/484 [==============================] - 11s 24ms/step - loss: 2.0572 - accuracy: 0.6042\n",
            "Epoch 65/100\n",
            "484/484 [==============================] - 11s 24ms/step - loss: 2.0210 - accuracy: 0.6184\n",
            "Epoch 66/100\n",
            "484/484 [==============================] - 11s 24ms/step - loss: 2.0001 - accuracy: 0.6213\n",
            "Epoch 67/100\n",
            "484/484 [==============================] - 12s 24ms/step - loss: 1.9730 - accuracy: 0.6270\n",
            "Epoch 68/100\n",
            "484/484 [==============================] - 11s 24ms/step - loss: 1.9414 - accuracy: 0.6339\n",
            "Epoch 69/100\n",
            "484/484 [==============================] - 12s 24ms/step - loss: 1.9261 - accuracy: 0.6323\n",
            "Epoch 70/100\n",
            "484/484 [==============================] - 12s 24ms/step - loss: 1.8930 - accuracy: 0.6422\n",
            "Epoch 71/100\n",
            "484/484 [==============================] - 12s 24ms/step - loss: 1.8695 - accuracy: 0.6467\n",
            "Epoch 72/100\n",
            "484/484 [==============================] - 12s 24ms/step - loss: 1.8464 - accuracy: 0.6549\n",
            "Epoch 73/100\n",
            "484/484 [==============================] - 12s 24ms/step - loss: 1.8210 - accuracy: 0.6562\n",
            "Epoch 74/100\n",
            "484/484 [==============================] - 12s 24ms/step - loss: 1.7944 - accuracy: 0.6641\n",
            "Epoch 75/100\n",
            "484/484 [==============================] - 11s 24ms/step - loss: 1.7685 - accuracy: 0.6691\n",
            "Epoch 76/100\n",
            "484/484 [==============================] - 11s 24ms/step - loss: 1.7468 - accuracy: 0.6762\n",
            "Epoch 77/100\n",
            "484/484 [==============================] - 12s 24ms/step - loss: 1.7362 - accuracy: 0.6759\n",
            "Epoch 78/100\n",
            "484/484 [==============================] - 12s 24ms/step - loss: 1.6942 - accuracy: 0.6858\n",
            "Epoch 79/100\n",
            "484/484 [==============================] - 12s 24ms/step - loss: 1.6936 - accuracy: 0.6841\n",
            "Epoch 80/100\n",
            "484/484 [==============================] - 11s 24ms/step - loss: 1.6645 - accuracy: 0.6908\n",
            "Epoch 81/100\n",
            "484/484 [==============================] - 12s 24ms/step - loss: 1.6563 - accuracy: 0.6925\n",
            "Epoch 82/100\n",
            "484/484 [==============================] - 11s 24ms/step - loss: 1.6343 - accuracy: 0.7004\n",
            "Epoch 83/100\n",
            "484/484 [==============================] - 11s 24ms/step - loss: 1.6270 - accuracy: 0.6990\n",
            "Epoch 84/100\n",
            "484/484 [==============================] - 12s 24ms/step - loss: 1.5920 - accuracy: 0.7040\n",
            "Epoch 85/100\n",
            "484/484 [==============================] - 12s 24ms/step - loss: 1.5755 - accuracy: 0.7125\n",
            "Epoch 86/100\n",
            "484/484 [==============================] - 12s 24ms/step - loss: 1.5625 - accuracy: 0.7160\n",
            "Epoch 87/100\n",
            "484/484 [==============================] - 11s 24ms/step - loss: 1.5524 - accuracy: 0.7150\n",
            "Epoch 88/100\n",
            "484/484 [==============================] - 11s 24ms/step - loss: 1.5346 - accuracy: 0.7199\n",
            "Epoch 89/100\n",
            "484/484 [==============================] - 11s 24ms/step - loss: 1.5129 - accuracy: 0.7227\n",
            "Epoch 90/100\n",
            "484/484 [==============================] - 12s 24ms/step - loss: 1.4886 - accuracy: 0.7278\n",
            "Epoch 91/100\n",
            "484/484 [==============================] - 11s 24ms/step - loss: 1.4807 - accuracy: 0.7291\n",
            "Epoch 92/100\n",
            "484/484 [==============================] - 11s 24ms/step - loss: 1.4738 - accuracy: 0.7332\n",
            "Epoch 93/100\n",
            "484/484 [==============================] - 12s 24ms/step - loss: 1.4692 - accuracy: 0.7311\n",
            "Epoch 94/100\n",
            "484/484 [==============================] - 12s 24ms/step - loss: 1.4612 - accuracy: 0.7321\n",
            "Epoch 95/100\n",
            "484/484 [==============================] - 11s 24ms/step - loss: 1.4245 - accuracy: 0.7436\n",
            "Epoch 96/100\n",
            "484/484 [==============================] - 11s 24ms/step - loss: 1.4106 - accuracy: 0.7449\n",
            "Epoch 97/100\n",
            "484/484 [==============================] - 12s 24ms/step - loss: 1.4120 - accuracy: 0.7468\n",
            "Epoch 98/100\n",
            "484/484 [==============================] - 12s 24ms/step - loss: 1.4058 - accuracy: 0.7441\n",
            "Epoch 99/100\n",
            "484/484 [==============================] - 12s 24ms/step - loss: 1.4032 - accuracy: 0.7421\n",
            "Epoch 100/100\n",
            "484/484 [==============================] - 12s 24ms/step - loss: 1.3613 - accuracy: 0.7576\n"
          ]
        }
      ]
    },
    {
      "cell_type": "code",
      "metadata": {
        "id": "1fXTEO3GJ282",
        "outputId": "2cf56ceb-da91-4677-ba5c-767ec93acc40",
        "colab": {
          "base_uri": "https://localhost:8080/",
          "height": 545
        }
      },
      "source": [
        "import matplotlib.pyplot as plt\n",
        "acc = history.history['accuracy']\n",
        "loss = history.history['loss']\n",
        "\n",
        "epochs = range(len(acc))\n",
        "\n",
        "plt.plot(epochs, acc, 'b', label='Training accuracy')\n",
        "plt.title('Training accuracy')\n",
        "\n",
        "plt.figure()\n",
        "\n",
        "plt.plot(epochs, loss, 'b', label='Training Loss')\n",
        "plt.title('Training loss')\n",
        "plt.legend()\n",
        "\n",
        "plt.show()"
      ],
      "execution_count": 26,
      "outputs": [
        {
          "output_type": "display_data",
          "data": {
            "image/png": "[encoded data removed]",
            "text/plain": [
              "<Figure size 432x288 with 1 Axes>"
            ]
          },
          "metadata": {
            "needs_background": "light"
          }
        },
        {
          "output_type": "display_data",
          "data": {
            "image/png": "[encoded data removed]",
            "text/plain": [
              "<Figure size 432x288 with 1 Axes>"
            ]
          },
          "metadata": {
            "needs_background": "light"
          }
        }
      ]
    },
    {
      "cell_type": "code",
      "metadata": {
        "id": "6Vc6PHgxa6Hm",
        "outputId": "9aa35584-795a-4753-dfa4-9d15c2cfbcd5",
        "colab": {
          "base_uri": "https://localhost:8080/"
        }
      },
      "source": [
        "seed_text = \"Help me Thibaud, you're the only hope\"\n",
        "next_words = 100\n",
        "  \n",
        "for _ in range(next_words):\n",
        "\ttoken_list = tokenizer.texts_to_sequences([seed_text])[0]\n",
        "\ttoken_list = pad_sequences([token_list], maxlen=max_sequence_len-1, padding='pre')\n",
        "\tpredicted = np.argmax(model.predict(token_list, verbose=0),axis=-1)\n",
        "\toutput_word = \"\"\n",
        "\tfor word, index in tokenizer.word_index.items():\n",
        "\t\tif index == predicted:\n",
        "\t\t\toutput_word = word\n",
        "\t\t\tbreak\n",
        "\tseed_text += \" \" + output_word\n",
        "print(seed_text)"
      ],
      "execution_count": 28,
      "outputs": [
        {
          "output_type": "stream",
          "name": "stdout",
          "text": [
            "Help me Thibaud, you're the only hope of thee confound confound seen store it near grow reap it wide cold age doth keep his shore sun fitted warm'd warm'd days had days days days days days common made her evident ' had hour die thence stand bear care new scorn is forth her sound they change be strange stand go rage must aside show thee true your friend do in their friend untrue shine bright doth true ' tell take thence die releasing thence find another groan alone with men find go groan of store all give disdain behind it had seen grow dead dead staineth light\n"
          ]
        }
      ]
    },
    {
      "cell_type": "code",
      "metadata": {
        "id": "vAYabcXO91k2"
      },
      "source": [
        ""
      ],
      "execution_count": null,
      "outputs": []
    }
  ]
}